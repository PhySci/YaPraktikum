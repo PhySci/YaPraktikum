{
 "cells": [
  {
   "cell_type": "markdown",
   "id": "b0b051d8-6cf8-44a7-ae27-1ee80db8859a",
   "metadata": {},
   "source": [
    "# Load data"
   ]
  },
  {
   "cell_type": "code",
   "execution_count": 7,
   "id": "e9bad1ed-977d-4010-9e39-547883397856",
   "metadata": {},
   "outputs": [],
   "source": [
    "import pandas as pd"
   ]
  },
  {
   "cell_type": "code",
   "execution_count": 9,
   "id": "d6e7becb-46e4-4cf9-9a19-57883c998cfe",
   "metadata": {},
   "outputs": [
    {
     "data": {
      "text/html": [
       "<div>\n",
       "<style scoped>\n",
       "    .dataframe tbody tr th:only-of-type {\n",
       "        vertical-align: middle;\n",
       "    }\n",
       "\n",
       "    .dataframe tbody tr th {\n",
       "        vertical-align: top;\n",
       "    }\n",
       "\n",
       "    .dataframe thead th {\n",
       "        text-align: right;\n",
       "    }\n",
       "</style>\n",
       "<table border=\"1\" class=\"dataframe\">\n",
       "  <thead>\n",
       "    <tr style=\"text-align: right;\">\n",
       "      <th></th>\n",
       "      <th>id</th>\n",
       "      <th>qid1</th>\n",
       "      <th>qid2</th>\n",
       "      <th>question1</th>\n",
       "      <th>question2</th>\n",
       "      <th>is_duplicate</th>\n",
       "    </tr>\n",
       "  </thead>\n",
       "  <tbody>\n",
       "    <tr>\n",
       "      <th>363696</th>\n",
       "      <td>363696</td>\n",
       "      <td>493696</td>\n",
       "      <td>493697</td>\n",
       "      <td>What causes hallucinations from weed?</td>\n",
       "      <td>How is Zong weed different from other weed?</td>\n",
       "      <td>0</td>\n",
       "    </tr>\n",
       "    <tr>\n",
       "      <th>127668</th>\n",
       "      <td>127668</td>\n",
       "      <td>205495</td>\n",
       "      <td>142438</td>\n",
       "      <td>Why is CNN biased?</td>\n",
       "      <td>In what ways is CNN biased, if it is?</td>\n",
       "      <td>1</td>\n",
       "    </tr>\n",
       "    <tr>\n",
       "      <th>370413</th>\n",
       "      <td>370413</td>\n",
       "      <td>1596</td>\n",
       "      <td>50007</td>\n",
       "      <td>What are the safety precautions on handling sh...</td>\n",
       "      <td>What are the safety precautions on handling sh...</td>\n",
       "      <td>1</td>\n",
       "    </tr>\n",
       "    <tr>\n",
       "      <th>304378</th>\n",
       "      <td>304378</td>\n",
       "      <td>10280</td>\n",
       "      <td>11510</td>\n",
       "      <td>Why do long distance relationships fail?</td>\n",
       "      <td>How can I maintain my long distance relationsh...</td>\n",
       "      <td>1</td>\n",
       "    </tr>\n",
       "    <tr>\n",
       "      <th>261965</th>\n",
       "      <td>261965</td>\n",
       "      <td>145906</td>\n",
       "      <td>162176</td>\n",
       "      <td>What signs a girl gives when she is interested...</td>\n",
       "      <td>What are the signals that a girl gives if she'...</td>\n",
       "      <td>1</td>\n",
       "    </tr>\n",
       "  </tbody>\n",
       "</table>\n",
       "</div>"
      ],
      "text/plain": [
       "            id    qid1    qid2  \\\n",
       "363696  363696  493696  493697   \n",
       "127668  127668  205495  142438   \n",
       "370413  370413    1596   50007   \n",
       "304378  304378   10280   11510   \n",
       "261965  261965  145906  162176   \n",
       "\n",
       "                                                question1  \\\n",
       "363696              What causes hallucinations from weed?   \n",
       "127668                                 Why is CNN biased?   \n",
       "370413  What are the safety precautions on handling sh...   \n",
       "304378           Why do long distance relationships fail?   \n",
       "261965  What signs a girl gives when she is interested...   \n",
       "\n",
       "                                                question2  is_duplicate  \n",
       "363696        How is Zong weed different from other weed?             0  \n",
       "127668              In what ways is CNN biased, if it is?             1  \n",
       "370413  What are the safety precautions on handling sh...             1  \n",
       "304378  How can I maintain my long distance relationsh...             1  \n",
       "261965  What are the signals that a girl gives if she'...             1  "
      ]
     },
     "execution_count": 9,
     "metadata": {},
     "output_type": "execute_result"
    }
   ],
   "source": [
    "df1 = pd.read_csv(\"./data/data_generation_1.csv\", index_col=0)\n",
    "df1.head()"
   ]
  },
  {
   "cell_type": "code",
   "execution_count": 10,
   "id": "8400d14a-cd15-4e23-949b-2915550baf83",
   "metadata": {},
   "outputs": [
    {
     "data": {
      "text/html": [
       "<div>\n",
       "<style scoped>\n",
       "    .dataframe tbody tr th:only-of-type {\n",
       "        vertical-align: middle;\n",
       "    }\n",
       "\n",
       "    .dataframe tbody tr th {\n",
       "        vertical-align: top;\n",
       "    }\n",
       "\n",
       "    .dataframe thead th {\n",
       "        text-align: right;\n",
       "    }\n",
       "</style>\n",
       "<table border=\"1\" class=\"dataframe\">\n",
       "  <thead>\n",
       "    <tr style=\"text-align: right;\">\n",
       "      <th></th>\n",
       "      <th>id</th>\n",
       "      <th>qid1</th>\n",
       "      <th>qid2</th>\n",
       "      <th>question1</th>\n",
       "      <th>question2</th>\n",
       "      <th>is_duplicate</th>\n",
       "    </tr>\n",
       "  </thead>\n",
       "  <tbody>\n",
       "    <tr>\n",
       "      <th>252969</th>\n",
       "      <td>252969</td>\n",
       "      <td>32257</td>\n",
       "      <td>223578</td>\n",
       "      <td>Do EM Drives actually work?</td>\n",
       "      <td>Does the EM Drive work?</td>\n",
       "      <td>1</td>\n",
       "    </tr>\n",
       "    <tr>\n",
       "      <th>60858</th>\n",
       "      <td>60858</td>\n",
       "      <td>48171</td>\n",
       "      <td>6578</td>\n",
       "      <td>How do you know if you’re in love?</td>\n",
       "      <td>How do know that you are in love?</td>\n",
       "      <td>1</td>\n",
       "    </tr>\n",
       "    <tr>\n",
       "      <th>77214</th>\n",
       "      <td>77214</td>\n",
       "      <td>131874</td>\n",
       "      <td>131875</td>\n",
       "      <td>What is the difference between a mushroom trip...</td>\n",
       "      <td>How is it to trip on LSD?</td>\n",
       "      <td>0</td>\n",
       "    </tr>\n",
       "    <tr>\n",
       "      <th>230895</th>\n",
       "      <td>230895</td>\n",
       "      <td>340561</td>\n",
       "      <td>26783</td>\n",
       "      <td>What do you make of Kapil Sharma's tweet to Na...</td>\n",
       "      <td>What is your opinion on comedian Kapil Sharma'...</td>\n",
       "      <td>1</td>\n",
       "    </tr>\n",
       "    <tr>\n",
       "      <th>278257</th>\n",
       "      <td>278257</td>\n",
       "      <td>397497</td>\n",
       "      <td>397498</td>\n",
       "      <td>Which is really the fastest web browser for An...</td>\n",
       "      <td>What is the best web browser for Android?</td>\n",
       "      <td>0</td>\n",
       "    </tr>\n",
       "  </tbody>\n",
       "</table>\n",
       "</div>"
      ],
      "text/plain": [
       "            id    qid1    qid2  \\\n",
       "252969  252969   32257  223578   \n",
       "60858    60858   48171    6578   \n",
       "77214    77214  131874  131875   \n",
       "230895  230895  340561   26783   \n",
       "278257  278257  397497  397498   \n",
       "\n",
       "                                                question1  \\\n",
       "252969                        Do EM Drives actually work?   \n",
       "60858                  How do you know if you’re in love?   \n",
       "77214   What is the difference between a mushroom trip...   \n",
       "230895  What do you make of Kapil Sharma's tweet to Na...   \n",
       "278257  Which is really the fastest web browser for An...   \n",
       "\n",
       "                                                question2  is_duplicate  \n",
       "252969                            Does the EM Drive work?             1  \n",
       "60858                   How do know that you are in love?             1  \n",
       "77214                           How is it to trip on LSD?             0  \n",
       "230895  What is your opinion on comedian Kapil Sharma'...             1  \n",
       "278257          What is the best web browser for Android?             0  "
      ]
     },
     "execution_count": 10,
     "metadata": {},
     "output_type": "execute_result"
    }
   ],
   "source": [
    "df2 = pd.read_csv(\"./data/data_generation_2.csv\", index_col=0)\n",
    "df2.head()"
   ]
  },
  {
   "cell_type": "code",
   "execution_count": 12,
   "id": "4a99d2ef-2ab9-4023-990b-a81663839beb",
   "metadata": {},
   "outputs": [
    {
     "data": {
      "text/html": [
       "<div>\n",
       "<style scoped>\n",
       "    .dataframe tbody tr th:only-of-type {\n",
       "        vertical-align: middle;\n",
       "    }\n",
       "\n",
       "    .dataframe tbody tr th {\n",
       "        vertical-align: top;\n",
       "    }\n",
       "\n",
       "    .dataframe thead th {\n",
       "        text-align: right;\n",
       "    }\n",
       "</style>\n",
       "<table border=\"1\" class=\"dataframe\">\n",
       "  <thead>\n",
       "    <tr style=\"text-align: right;\">\n",
       "      <th></th>\n",
       "      <th>id</th>\n",
       "      <th>qid1</th>\n",
       "      <th>qid2</th>\n",
       "      <th>question1</th>\n",
       "      <th>question2</th>\n",
       "      <th>is_duplicate</th>\n",
       "    </tr>\n",
       "  </thead>\n",
       "  <tbody>\n",
       "    <tr>\n",
       "      <th>363696</th>\n",
       "      <td>363696</td>\n",
       "      <td>493696</td>\n",
       "      <td>493697</td>\n",
       "      <td>What causes hallucinations from weed?</td>\n",
       "      <td>How is Zong weed different from other weed?</td>\n",
       "      <td>0</td>\n",
       "    </tr>\n",
       "    <tr>\n",
       "      <th>127668</th>\n",
       "      <td>127668</td>\n",
       "      <td>205495</td>\n",
       "      <td>142438</td>\n",
       "      <td>Why is CNN biased?</td>\n",
       "      <td>In what ways is CNN biased, if it is?</td>\n",
       "      <td>1</td>\n",
       "    </tr>\n",
       "    <tr>\n",
       "      <th>370413</th>\n",
       "      <td>370413</td>\n",
       "      <td>1596</td>\n",
       "      <td>50007</td>\n",
       "      <td>What are the safety precautions on handling sh...</td>\n",
       "      <td>What are the safety precautions on handling sh...</td>\n",
       "      <td>1</td>\n",
       "    </tr>\n",
       "    <tr>\n",
       "      <th>304378</th>\n",
       "      <td>304378</td>\n",
       "      <td>10280</td>\n",
       "      <td>11510</td>\n",
       "      <td>Why do long distance relationships fail?</td>\n",
       "      <td>How can I maintain my long distance relationsh...</td>\n",
       "      <td>1</td>\n",
       "    </tr>\n",
       "    <tr>\n",
       "      <th>261965</th>\n",
       "      <td>261965</td>\n",
       "      <td>145906</td>\n",
       "      <td>162176</td>\n",
       "      <td>What signs a girl gives when she is interested...</td>\n",
       "      <td>What are the signals that a girl gives if she'...</td>\n",
       "      <td>1</td>\n",
       "    </tr>\n",
       "  </tbody>\n",
       "</table>\n",
       "</div>"
      ],
      "text/plain": [
       "            id    qid1    qid2  \\\n",
       "363696  363696  493696  493697   \n",
       "127668  127668  205495  142438   \n",
       "370413  370413    1596   50007   \n",
       "304378  304378   10280   11510   \n",
       "261965  261965  145906  162176   \n",
       "\n",
       "                                                question1  \\\n",
       "363696              What causes hallucinations from weed?   \n",
       "127668                                 Why is CNN biased?   \n",
       "370413  What are the safety precautions on handling sh...   \n",
       "304378           Why do long distance relationships fail?   \n",
       "261965  What signs a girl gives when she is interested...   \n",
       "\n",
       "                                                question2  is_duplicate  \n",
       "363696        How is Zong weed different from other weed?             0  \n",
       "127668              In what ways is CNN biased, if it is?             1  \n",
       "370413  What are the safety precautions on handling sh...             1  \n",
       "304378  How can I maintain my long distance relationsh...             1  \n",
       "261965  What are the signals that a girl gives if she'...             1  "
      ]
     },
     "execution_count": 12,
     "metadata": {},
     "output_type": "execute_result"
    }
   ],
   "source": [
    "df = pd.concat([df1, df2])\n",
    "df.head()"
   ]
  },
  {
   "cell_type": "code",
   "execution_count": 16,
   "id": "3ea0cc42-4f10-4980-b40c-cbc30acab798",
   "metadata": {},
   "outputs": [],
   "source": [
    "df2 = pd.concat([df[[\"qid1\", \"question1\"]].rename(columns={\"qid1\": \"uid\", \"question1\": \"question\"}),\n",
    "                   df[[\"qid2\", \"question2\"]].rename(columns={\"qid2\": \"uid\", \"question2\": \"question\"})])"
   ]
  },
  {
   "cell_type": "code",
   "execution_count": 17,
   "id": "b2b5f069-935d-486c-bc8d-7f35c0a374f4",
   "metadata": {},
   "outputs": [
    {
     "data": {
      "text/html": [
       "<div>\n",
       "<style scoped>\n",
       "    .dataframe tbody tr th:only-of-type {\n",
       "        vertical-align: middle;\n",
       "    }\n",
       "\n",
       "    .dataframe tbody tr th {\n",
       "        vertical-align: top;\n",
       "    }\n",
       "\n",
       "    .dataframe thead th {\n",
       "        text-align: right;\n",
       "    }\n",
       "</style>\n",
       "<table border=\"1\" class=\"dataframe\">\n",
       "  <thead>\n",
       "    <tr style=\"text-align: right;\">\n",
       "      <th></th>\n",
       "      <th>uid</th>\n",
       "      <th>question</th>\n",
       "    </tr>\n",
       "  </thead>\n",
       "  <tbody>\n",
       "    <tr>\n",
       "      <th>363696</th>\n",
       "      <td>493696</td>\n",
       "      <td>What causes hallucinations from weed?</td>\n",
       "    </tr>\n",
       "    <tr>\n",
       "      <th>127668</th>\n",
       "      <td>205495</td>\n",
       "      <td>Why is CNN biased?</td>\n",
       "    </tr>\n",
       "    <tr>\n",
       "      <th>370413</th>\n",
       "      <td>1596</td>\n",
       "      <td>What are the safety precautions on handling sh...</td>\n",
       "    </tr>\n",
       "    <tr>\n",
       "      <th>304378</th>\n",
       "      <td>10280</td>\n",
       "      <td>Why do long distance relationships fail?</td>\n",
       "    </tr>\n",
       "    <tr>\n",
       "      <th>261965</th>\n",
       "      <td>145906</td>\n",
       "      <td>What signs a girl gives when she is interested...</td>\n",
       "    </tr>\n",
       "  </tbody>\n",
       "</table>\n",
       "</div>"
      ],
      "text/plain": [
       "           uid                                           question\n",
       "363696  493696              What causes hallucinations from weed?\n",
       "127668  205495                                 Why is CNN biased?\n",
       "370413    1596  What are the safety precautions on handling sh...\n",
       "304378   10280           Why do long distance relationships fail?\n",
       "261965  145906  What signs a girl gives when she is interested..."
      ]
     },
     "execution_count": 17,
     "metadata": {},
     "output_type": "execute_result"
    }
   ],
   "source": [
    "df2.head()"
   ]
  },
  {
   "cell_type": "markdown",
   "id": "ccd0100e-0136-4d2d-9bbf-51f80b0f25d4",
   "metadata": {},
   "source": [
    "# Sentence embeddings"
   ]
  },
  {
   "cell_type": "code",
   "execution_count": 19,
   "id": "468edf67-42db-411c-ab7c-f1a290ab0541",
   "metadata": {},
   "outputs": [],
   "source": [
    "from sentence_transformers import SentenceTransformer"
   ]
  },
  {
   "cell_type": "code",
   "execution_count": 20,
   "id": "fd8a2f7c-e0b9-411e-a04c-c8aa9cb3bc23",
   "metadata": {},
   "outputs": [],
   "source": [
    "model = SentenceTransformer(\"distiluse-base-multilingual-cased-v1\", device=\"cpu\")"
   ]
  },
  {
   "cell_type": "code",
   "execution_count": 28,
   "id": "d7c92c18-9fa6-40e6-a8c5-6d69cca1017b",
   "metadata": {},
   "outputs": [
    {
     "data": {
      "text/plain": [
       "<bound method Module.get_parameter of SentenceTransformer(\n",
       "  (0): Transformer({'max_seq_length': 128, 'do_lower_case': False}) with Transformer model: DistilBertModel \n",
       "  (1): Pooling({'word_embedding_dimension': 768, 'pooling_mode_cls_token': False, 'pooling_mode_mean_tokens': True, 'pooling_mode_max_tokens': False, 'pooling_mode_mean_sqrt_len_tokens': False})\n",
       "  (2): Dense({'in_features': 768, 'out_features': 512, 'bias': True, 'activation_function': 'torch.nn.modules.activation.Tanh'})\n",
       ")>"
      ]
     },
     "execution_count": 28,
     "metadata": {},
     "output_type": "execute_result"
    }
   ],
   "source": [
    "model.get_parameter"
   ]
  },
  {
   "cell_type": "code",
   "execution_count": 47,
   "id": "e158fd70-5e38-487f-9579-cc9ae2ec42de",
   "metadata": {},
   "outputs": [
    {
     "data": {
      "text/plain": [
       "uid                                        493696\n",
       "question    What causes hallucinations from weed?\n",
       "Name: 363696, dtype: object"
      ]
     },
     "execution_count": 47,
     "metadata": {},
     "output_type": "execute_result"
    }
   ],
   "source": [
    "df2.iloc[0]"
   ]
  },
  {
   "cell_type": "code",
   "execution_count": 24,
   "id": "2cbd042a-9510-470c-9df8-865ae352ded4",
   "metadata": {},
   "outputs": [
    {
     "data": {
      "text/plain": [
       "'What causes hallucinations from weed?'"
      ]
     },
     "execution_count": 24,
     "metadata": {},
     "output_type": "execute_result"
    }
   ],
   "source": [
    "test_sentence = df2.iloc[0][\"question\"]\n",
    "test_sentence"
   ]
  },
  {
   "cell_type": "code",
   "execution_count": 29,
   "id": "90eef85e-0f1e-49a7-970c-fbb30a72473a",
   "metadata": {},
   "outputs": [],
   "source": [
    "emb = model.encode(test_sentence)"
   ]
  },
  {
   "cell_type": "code",
   "execution_count": 30,
   "id": "7fda16d3-1465-47f5-8fbd-d7ad366558af",
   "metadata": {},
   "outputs": [
    {
     "data": {
      "text/plain": [
       "(512,)"
      ]
     },
     "execution_count": 30,
     "metadata": {},
     "output_type": "execute_result"
    }
   ],
   "source": [
    "emb.shape"
   ]
  },
  {
   "cell_type": "code",
   "execution_count": 31,
   "id": "9cb86cf2-7945-463e-ab04-a597e777efbc",
   "metadata": {
    "collapsed": true,
    "jupyter": {
     "outputs_hidden": true
    },
    "tags": []
   },
   "outputs": [
    {
     "data": {
      "text/plain": [
       "array([ 1.20304665e-02, -2.67845690e-02, -5.76905161e-02,  2.86435038e-02,\n",
       "       -7.30092525e-02, -5.36088319e-03, -2.13607438e-02,  1.69918612e-02,\n",
       "       -4.15378958e-02, -1.25693917e-01,  2.88300700e-02,  6.61542341e-02,\n",
       "        2.12030187e-02,  7.58857131e-02, -7.77882338e-02,  4.99526113e-02,\n",
       "       -2.83105746e-02,  4.99075912e-02, -3.86627391e-02,  2.00616885e-02,\n",
       "       -1.42113511e-02, -2.44045984e-02, -1.27259105e-01,  2.30313372e-02,\n",
       "       -5.81556596e-02,  2.53441068e-03, -2.51099393e-02,  6.17368482e-02,\n",
       "       -5.29357232e-02, -2.47612945e-03,  2.65411027e-02,  4.76179235e-02,\n",
       "       -4.97157723e-02,  6.29093545e-03,  4.23260182e-02,  2.36963462e-02,\n",
       "       -1.47621136e-03, -5.47419414e-02,  1.01822540e-02, -2.96115167e-02,\n",
       "        4.93465662e-02,  2.56696972e-03, -5.81334752e-04, -4.84833680e-02,\n",
       "        1.42848203e-02, -1.03855273e-02,  7.32477754e-02, -2.90084053e-02,\n",
       "       -7.27411956e-02, -6.46058246e-02,  2.25927643e-02, -7.89794512e-03,\n",
       "        2.28199195e-02,  2.55510062e-02, -2.55605504e-02,  5.29309623e-02,\n",
       "       -1.03297541e-02,  3.37691493e-02,  4.31133062e-02, -3.92092317e-02,\n",
       "       -7.66657060e-03,  8.18375684e-03,  2.36765854e-02,  4.49289829e-02,\n",
       "       -2.47694571e-02,  3.07387449e-02,  6.35156706e-02, -3.65339182e-02,\n",
       "        6.19798638e-02,  5.81832901e-02,  1.15260825e-01,  1.17500490e-02,\n",
       "        7.75575265e-02, -2.03778576e-02, -1.64865255e-02,  1.57900564e-02,\n",
       "       -5.13061397e-02,  3.09244748e-02,  3.13942768e-02, -4.39482182e-02,\n",
       "        1.67530365e-02, -1.32890329e-01,  9.25965011e-02, -5.71730882e-02,\n",
       "       -8.90857447e-03,  2.61556823e-03,  1.51510816e-02, -2.17490960e-02,\n",
       "        4.52850945e-05,  2.38599698e-03,  1.63503736e-02,  6.08179048e-02,\n",
       "        4.77108955e-02,  2.06945464e-02, -5.02199419e-02, -2.35753297e-03,\n",
       "        1.57664437e-02, -2.59398986e-02, -3.63272354e-02,  2.55031250e-02,\n",
       "       -5.61606027e-02,  5.41964062e-02, -2.25623269e-02,  3.03296987e-02,\n",
       "       -2.56147310e-02, -3.69100943e-02,  2.23983452e-02,  3.61593664e-02,\n",
       "       -1.68609433e-02, -2.70012151e-02,  6.01319782e-02, -1.16269430e-02,\n",
       "       -2.49627773e-02,  7.15341140e-03,  5.33054620e-02,  3.34352143e-02,\n",
       "        3.64393778e-02, -3.44071239e-02,  9.76855159e-02, -7.30547607e-02,\n",
       "       -4.51319627e-02, -1.48707973e-02,  2.29105335e-02,  9.54851881e-03,\n",
       "        6.17794087e-03,  1.15467617e-02, -9.72986873e-03, -5.41100977e-03,\n",
       "       -1.49202077e-02, -3.71297747e-02,  7.72120757e-03,  3.03834658e-02,\n",
       "       -7.14190900e-02, -3.53501141e-02,  6.84479922e-02,  6.24320097e-02,\n",
       "        1.94783248e-02, -8.37723166e-03, -9.32887103e-03, -8.91349046e-04,\n",
       "        1.29546905e-02,  3.28918770e-02, -6.18179841e-03, -4.18041795e-02,\n",
       "       -1.19609669e-01,  6.90855160e-02,  4.22540866e-02,  3.29289474e-02,\n",
       "       -3.50538976e-02,  1.76088810e-02,  6.61072880e-02, -2.17579585e-02,\n",
       "       -2.48189503e-03, -9.58162826e-03, -1.58980247e-02,  2.62161829e-02,\n",
       "        3.65733616e-02, -3.33684757e-02,  1.70187987e-02,  4.16310392e-02,\n",
       "        5.74375317e-02, -5.99296130e-02, -1.22203613e-02, -3.00244596e-02,\n",
       "       -1.31754819e-02, -2.49751471e-02,  1.76530723e-02, -1.20002469e-02,\n",
       "        4.38079163e-02, -2.01668702e-02,  1.32982820e-01,  6.61095381e-02,\n",
       "       -7.81114325e-02, -3.68945254e-03,  3.36453468e-02, -4.03346010e-02,\n",
       "       -1.66723374e-02, -4.60294560e-02, -1.21282982e-02, -2.06250302e-03,\n",
       "        2.07934566e-02, -1.80017799e-02, -3.77069078e-02, -1.67884212e-02,\n",
       "       -7.03258812e-03, -4.04195823e-02, -2.48994846e-02,  7.39084333e-02,\n",
       "       -7.27091357e-02,  5.39599583e-02,  1.95116270e-02, -3.42955254e-03,\n",
       "        5.26584052e-02,  3.26962210e-02, -8.99438486e-02, -6.04812168e-02,\n",
       "        4.93463688e-02,  6.05867989e-02,  2.33737146e-03,  4.51983213e-02,\n",
       "        5.98743185e-02, -1.43832378e-02,  4.76185642e-02,  8.59047845e-02,\n",
       "        5.41337356e-02,  3.25103626e-02, -6.47264486e-03, -3.11165042e-02,\n",
       "       -1.13135362e-02, -1.03745265e-02, -2.39444454e-03, -8.11561868e-02,\n",
       "        1.93768125e-02,  1.30714802e-02,  1.62838176e-02, -1.68262478e-02,\n",
       "        3.79028590e-03, -3.21998540e-03, -7.31786131e-04,  6.18631057e-02,\n",
       "        1.41098043e-02, -3.39023471e-02, -4.03025700e-03, -2.92456406e-03,\n",
       "       -1.98365021e-02,  3.39945685e-03,  1.65402461e-02, -3.92661393e-02,\n",
       "       -5.04343323e-02, -8.60386156e-03, -5.12527563e-02,  1.53917838e-02,\n",
       "       -1.24600790e-02,  5.61207458e-02,  2.15969495e-02,  2.61118524e-02,\n",
       "        5.59106618e-02, -7.30938558e-03,  1.49718514e-02,  8.60218182e-02,\n",
       "       -7.57161155e-02, -3.69230509e-02, -2.39084344e-02, -3.21365483e-02,\n",
       "        3.46743502e-02, -6.69674650e-02,  2.53466535e-02,  3.19076478e-02,\n",
       "       -6.20907813e-04, -1.27460668e-02,  8.77161697e-02, -7.04277726e-03,\n",
       "       -1.80299263e-02,  9.94620007e-03,  4.77714837e-03, -5.40982299e-02,\n",
       "        3.86232287e-02,  2.39041205e-02, -8.03649612e-03,  4.53867726e-02,\n",
       "        1.39104633e-03,  7.29701016e-03, -2.97295637e-02,  1.31658800e-02,\n",
       "        1.95311406e-03, -1.98360924e-02, -4.72247154e-02, -2.04257425e-02,\n",
       "       -9.89718828e-03, -2.57605761e-02, -5.37537485e-02,  4.62817401e-02,\n",
       "        4.59757075e-02,  7.85937309e-02,  5.65240346e-02, -9.39809307e-02,\n",
       "        3.20574045e-02, -4.25017178e-02,  1.83029044e-02,  8.94399127e-04,\n",
       "        1.49997231e-02,  3.51631967e-03,  4.70445044e-02, -6.27014972e-03,\n",
       "        3.10000847e-03,  1.62218045e-02,  7.22389445e-02, -2.39871610e-02,\n",
       "        3.63612780e-03,  3.36846523e-02,  1.63583849e-02,  5.58441952e-02,\n",
       "       -4.00385484e-02, -5.90890553e-03,  5.99013567e-02, -8.71070847e-02,\n",
       "        8.15914385e-03,  2.04794016e-02,  4.32404727e-02,  7.63722360e-02,\n",
       "        6.14560917e-02,  5.26797697e-02, -1.73260663e-02,  1.71350483e-02,\n",
       "        6.47772802e-03,  2.80459523e-02,  2.43129358e-02,  3.59991379e-02,\n",
       "        5.12190461e-02,  7.31883803e-04, -2.81959642e-02,  7.42678568e-02,\n",
       "        4.99162935e-02,  5.01381606e-02,  5.21406718e-02,  7.42849568e-03,\n",
       "       -2.63820193e-03, -7.74634955e-03,  3.93742993e-02,  3.79072363e-03,\n",
       "        5.07231895e-03,  9.03659966e-03,  1.99082750e-03, -4.73439842e-02,\n",
       "       -2.35822727e-03,  2.67832167e-03,  1.61379073e-02, -7.14380145e-02,\n",
       "        3.75771001e-02,  3.78694534e-02, -1.39609408e-02,  2.88090985e-02,\n",
       "        3.53715569e-03, -1.88769363e-02, -5.39645460e-03, -1.62708317e-03,\n",
       "        5.04307114e-02,  2.34654080e-02,  3.85033637e-02, -3.76332663e-02,\n",
       "        7.86359515e-03,  1.87905580e-02,  5.12921922e-02,  1.60941929e-02,\n",
       "       -5.08245379e-02,  4.29588705e-02, -3.75363566e-02, -1.43952500e-02,\n",
       "       -1.03965057e-02,  6.33512251e-03, -4.82947230e-02,  5.88512979e-02,\n",
       "       -1.95719977e-03, -2.58399695e-02,  6.17159018e-03,  6.21716678e-03,\n",
       "        4.10206988e-02,  1.25655383e-01,  5.39819859e-02,  3.30794193e-02,\n",
       "        1.98150775e-03,  1.58212259e-02,  3.20184827e-02,  6.48603886e-02,\n",
       "       -9.45189036e-03,  8.66181478e-02,  3.57601531e-02, -2.40467358e-02,\n",
       "       -2.76113022e-02, -1.53559688e-02, -1.30256377e-02,  4.02316153e-02,\n",
       "       -5.57452161e-03,  2.39041988e-02, -2.19509285e-02, -6.28533438e-02,\n",
       "       -6.48212014e-03,  2.43283398e-02,  8.23417455e-02,  2.84927040e-02,\n",
       "        1.39110535e-02, -6.62993686e-03, -3.43924798e-02, -1.25851985e-02,\n",
       "        1.56954508e-02, -3.23924795e-02,  1.93452816e-02, -6.60931617e-02,\n",
       "       -1.78888664e-02,  6.74125133e-03, -2.60338802e-02, -2.78924238e-02,\n",
       "        1.92822888e-02, -4.39536907e-02,  3.37170600e-03, -5.64322099e-02,\n",
       "       -1.35660665e-02, -4.39837836e-02,  3.23296860e-02,  2.24246271e-02,\n",
       "       -3.54612954e-02, -4.86522540e-02,  8.64495263e-02, -3.89033668e-02,\n",
       "        1.68182943e-02,  3.66776474e-02,  5.29253893e-02,  2.79749464e-02,\n",
       "       -3.34474146e-02, -1.43315997e-02,  2.96340268e-02,  6.95720781e-03,\n",
       "       -3.44517455e-02,  2.11978331e-02,  2.43781395e-02,  5.96927777e-02,\n",
       "        3.97433117e-02,  5.56940073e-03, -4.86845709e-02, -3.80095392e-02,\n",
       "       -1.12100635e-02,  7.17999786e-02,  3.27592203e-03,  3.64145674e-02,\n",
       "       -1.02430573e-02,  1.68480221e-02, -4.48643342e-02, -5.24404198e-02,\n",
       "        9.40892026e-02, -6.89246738e-03,  3.90670970e-02, -3.63584831e-02,\n",
       "       -3.22458241e-03, -6.71495870e-03, -8.50501470e-03,  5.03749773e-02,\n",
       "        8.30659345e-02,  7.01556057e-02,  7.05726817e-02,  4.48040925e-02,\n",
       "       -2.56020688e-02,  1.41958557e-02, -3.19422446e-02,  3.41804437e-02,\n",
       "       -5.10922484e-02, -3.46626602e-02, -7.88404867e-02,  4.40907776e-02,\n",
       "        1.42673282e-02,  9.45789739e-03,  7.50662340e-03,  3.64743196e-03,\n",
       "        3.65621187e-02, -3.75771299e-02,  2.00346857e-02,  1.97108276e-02,\n",
       "        5.48843003e-04, -7.30534038e-03,  2.81801075e-02, -4.59663346e-02,\n",
       "        6.94887117e-02,  2.65533533e-02,  4.33486551e-02, -5.18153235e-02,\n",
       "        3.14250253e-02,  1.10420333e-02, -3.14835925e-03, -2.50252038e-02,\n",
       "       -3.83179337e-02, -4.54415008e-02,  2.49910355e-02,  5.49750822e-03,\n",
       "        5.43220304e-02, -6.70610368e-03,  7.53958449e-02,  3.35353874e-02,\n",
       "       -2.49302331e-02, -1.01844268e-02,  5.29830977e-02, -6.08138647e-03,\n",
       "       -1.60647258e-02,  1.01548992e-02, -9.18165743e-02, -2.56709941e-02,\n",
       "       -2.72955596e-02, -1.57363694e-02, -4.54793125e-02,  7.75726337e-04,\n",
       "        1.19235981e-02,  5.32689951e-02,  4.20403155e-03, -1.95342451e-02,\n",
       "       -1.97200011e-02, -1.22512542e-02, -1.77441482e-02,  7.70192407e-03,\n",
       "       -2.11324450e-02, -5.56819029e-02,  8.12991243e-03,  7.69741163e-02,\n",
       "        1.55345665e-03, -2.22510770e-02, -2.64699180e-02,  7.48427818e-03,\n",
       "       -1.08120628e-02, -4.92482670e-02, -4.26589325e-02,  1.01743573e-02,\n",
       "        5.62108383e-02,  4.29492071e-03,  1.00833895e-02,  4.29236301e-04],\n",
       "      dtype=float32)"
      ]
     },
     "execution_count": 31,
     "metadata": {},
     "output_type": "execute_result"
    }
   ],
   "source": [
    "emb"
   ]
  },
  {
   "cell_type": "markdown",
   "id": "6608e06b-4c7c-4430-916f-4b8b67734686",
   "metadata": {},
   "source": [
    "# Build index"
   ]
  },
  {
   "cell_type": "code",
   "execution_count": 21,
   "id": "e911c3bc-78b3-424c-848b-9e67e5c62ca8",
   "metadata": {},
   "outputs": [],
   "source": [
    "from annoy import AnnoyIndex"
   ]
  },
  {
   "cell_type": "code",
   "execution_count": 33,
   "id": "2f187084-e748-422e-a283-2d44110825cb",
   "metadata": {},
   "outputs": [],
   "source": [
    "dim_size = 512"
   ]
  },
  {
   "cell_type": "code",
   "execution_count": 40,
   "id": "5a30a7c4-8939-467c-bfb9-5a7e65741edc",
   "metadata": {},
   "outputs": [
    {
     "data": {
      "text/plain": [
       "(1109364, 2)"
      ]
     },
     "execution_count": 40,
     "metadata": {},
     "output_type": "execute_result"
    }
   ],
   "source": [
    "df2.shape"
   ]
  },
  {
   "cell_type": "code",
   "execution_count": 42,
   "id": "bb0d30a6-3ae3-4a3e-9848-8cb8971de696",
   "metadata": {},
   "outputs": [],
   "source": [
    "index = AnnoyIndex(dim_size, \"angular\")\n",
    "\n",
    "max_size = 100000 \n",
    "for i, (_, item) in enumerate(df2.iterrows()):\n",
    "    uid = item.uid\n",
    "    text = item.question\n",
    "    \n",
    "    emb = model.encode(text)\n",
    "    index.add_item(uid, emb)\n",
    "    if i > max_size:\n",
    "        break"
   ]
  },
  {
   "cell_type": "code",
   "execution_count": 46,
   "id": "f0c3afa7-9183-453f-b2a6-faaa653e1536",
   "metadata": {},
   "outputs": [
    {
     "name": "stderr",
     "output_type": "stream",
     "text": [
      "You can't build a loaded index\n"
     ]
    },
    {
     "ename": "Exception",
     "evalue": "You can't build a loaded index",
     "output_type": "error",
     "traceback": [
      "\u001b[0;31m---------------------------------------------------------------------------\u001b[0m",
      "\u001b[0;31mException\u001b[0m                                 Traceback (most recent call last)",
      "\u001b[0;32m/tmp/ipykernel_38570/2338028630.py\u001b[0m in \u001b[0;36m<module>\u001b[0;34m\u001b[0m\n\u001b[0;32m----> 1\u001b[0;31m \u001b[0mindex\u001b[0m\u001b[0;34m.\u001b[0m\u001b[0mbuild\u001b[0m\u001b[0;34m(\u001b[0m\u001b[0;36m50\u001b[0m\u001b[0;34m)\u001b[0m\u001b[0;34m\u001b[0m\u001b[0;34m\u001b[0m\u001b[0m\n\u001b[0m",
      "\u001b[0;31mException\u001b[0m: You can't build a loaded index"
     ]
    }
   ],
   "source": [
    "index.build(50)"
   ]
  },
  {
   "cell_type": "code",
   "execution_count": 45,
   "id": "96377e45-ec01-40c8-9c44-a4344211cfa2",
   "metadata": {},
   "outputs": [
    {
     "data": {
      "text/plain": [
       "True"
      ]
     },
     "execution_count": 45,
     "metadata": {},
     "output_type": "execute_result"
    }
   ],
   "source": [
    "index.save(\"quora.idx\")"
   ]
  },
  {
   "cell_type": "markdown",
   "id": "3d26d998-975e-4416-901c-108064803660",
   "metadata": {},
   "source": [
    "# Inference"
   ]
  },
  {
   "cell_type": "markdown",
   "id": "c988bec0-3441-4e2a-a4ab-6e005aedee84",
   "metadata": {},
   "source": [
    "## 1"
   ]
  },
  {
   "cell_type": "code",
   "execution_count": 54,
   "id": "534e1800-07e6-4208-a566-b19d9a73cacb",
   "metadata": {},
   "outputs": [
    {
     "name": "stdout",
     "output_type": "stream",
     "text": [
      "What causes hallucinations from weed?\n",
      "What causes sphincter paralysis?\n",
      "What are the causes of having sleep paralysis every night?\n",
      "How does marijuana affect neuroplasticity?\n",
      "What causes addiction?\n",
      "What causes paranoia?\n",
      "What causes Sexsomnia?\n",
      "Why does sleep paralysis happens?\n",
      "What causes déja vu?\n",
      "What causes dizziness after laughing?\n"
     ]
    }
   ],
   "source": [
    "nns = index.get_nns_by_item(493696, 10)\n",
    "for nn in nns:\n",
    "    print(df2.query(\"uid == {:d}\".format(nn)).iloc[0][\"question\"])"
   ]
  },
  {
   "cell_type": "code",
   "execution_count": 55,
   "id": "eadc2414-903e-41bb-8f5e-c9a1082548bd",
   "metadata": {},
   "outputs": [
    {
     "name": "stdout",
     "output_type": "stream",
     "text": [
      "Why do long distance relationships fail?\n",
      "Why do people in relationships cheat?\n",
      "Why are relationships so complicated these days?\n",
      "Why do some people hate romantic relationships?\n",
      "Why do we always end up complicating the relationships we don't want to complicate?\n",
      "Why do we lose the ability to trust people after a breakup?\n",
      "Why are most guys in relationships whipped?\n",
      "Why do men cheat in a relationship?\n",
      "Why are girls afraid of relationships?\n",
      "Why do you think people fall in love?\n"
     ]
    }
   ],
   "source": [
    "nns = index.get_nns_by_item(10280, 10)\n",
    "for nn in nns:\n",
    "    print(df2.query(\"uid == {:d}\".format(nn)).iloc[0][\"question\"])"
   ]
  },
  {
   "cell_type": "markdown",
   "id": "d87ad5e2-031e-4d3d-bdcf-bac89780f184",
   "metadata": {},
   "source": [
    "## 2"
   ]
  },
  {
   "cell_type": "code",
   "execution_count": 57,
   "id": "1f2f7290-a328-452b-9a13-430aee4ae140",
   "metadata": {},
   "outputs": [],
   "source": [
    "text = \"Why life is so difficult?\""
   ]
  },
  {
   "cell_type": "code",
   "execution_count": 58,
   "id": "88b5078b-9d4d-4ade-991e-21568338d94a",
   "metadata": {
    "tags": []
   },
   "outputs": [
    {
     "data": {
      "text/plain": [
       "array([ 2.79351603e-02,  3.26070860e-02,  5.16851097e-02, -1.80328898e-02,\n",
       "       -3.64138260e-02, -5.04031926e-02, -5.84826767e-02, -7.54945911e-03,\n",
       "        2.62992270e-03, -9.89049599e-02,  5.94008528e-03, -2.83751525e-02,\n",
       "        1.12738479e-02,  1.96757037e-02, -1.19554540e-02,  7.06120729e-02,\n",
       "       -3.07264011e-02,  7.99148679e-02,  3.72252166e-02, -4.04153578e-02,\n",
       "       -1.86942965e-02, -2.77251508e-02,  4.98593710e-02, -3.25897448e-02,\n",
       "        4.33603972e-02,  1.94987040e-02,  5.87214716e-03, -1.83762684e-02,\n",
       "        1.11114923e-02, -3.07710916e-02,  3.66237350e-02,  2.19741538e-02,\n",
       "       -2.78152991e-02, -3.43110226e-02,  2.69636642e-02, -3.19100618e-02,\n",
       "        4.01353650e-02,  3.65341604e-02,  2.96291113e-02, -3.78221758e-02,\n",
       "       -7.51352981e-02, -3.62595799e-03,  1.19700644e-03,  3.84565890e-02,\n",
       "       -1.92979835e-02,  4.34329733e-02,  1.54138179e-02,  3.00020445e-02,\n",
       "        1.74787939e-02, -2.19933614e-02, -5.61783789e-03, -1.93434563e-02,\n",
       "       -1.07677979e-03, -1.00851087e-02, -3.69609296e-02, -4.41511609e-02,\n",
       "        2.68693734e-03, -9.13775433e-03,  1.78304873e-03, -9.60887894e-02,\n",
       "        3.36508192e-02, -1.32137630e-02,  4.04889211e-02,  5.08344471e-02,\n",
       "        5.48567176e-02, -8.04478303e-03, -8.43629520e-03, -2.38413550e-02,\n",
       "        1.03042889e-02,  4.73040575e-03,  5.44856340e-02,  2.09580436e-02,\n",
       "        3.85079756e-02,  1.13867279e-02, -2.36533023e-03,  1.14280745e-01,\n",
       "       -3.86569872e-02,  7.06971856e-03, -5.24637327e-02, -8.28499731e-04,\n",
       "        8.31242371e-03, -9.44898874e-02,  2.42630616e-02, -4.36954163e-02,\n",
       "        1.33237848e-02,  4.43703830e-02,  5.77422790e-02,  7.77586251e-02,\n",
       "       -4.23202962e-02,  4.62814048e-02, -5.95418140e-02,  1.15957456e-02,\n",
       "        4.52476330e-02,  9.58701037e-03, -4.45468687e-02,  7.84317851e-02,\n",
       "       -8.19031149e-03, -1.49278194e-02,  1.71096269e-02, -6.07812684e-03,\n",
       "        1.27989724e-02, -5.98820373e-02, -3.95807661e-02,  5.14113754e-02,\n",
       "       -1.92323253e-02, -6.00529544e-04,  8.18316340e-02, -1.24603016e-02,\n",
       "        4.60884422e-02, -6.54208823e-04, -3.99889499e-02, -1.67113764e-03,\n",
       "        4.71209176e-02, -5.61497696e-02,  1.68225728e-02,  4.29532304e-03,\n",
       "        1.34122903e-02, -2.16995571e-02,  9.71901938e-02, -5.02719404e-03,\n",
       "       -4.77408357e-02,  3.28316428e-02,  1.41524216e-02, -2.45332569e-02,\n",
       "       -2.24049930e-02,  6.54957816e-02,  1.68009158e-02,  2.00952664e-02,\n",
       "       -6.17554737e-03,  2.78788060e-02, -8.41634870e-02,  4.87236260e-03,\n",
       "        4.12200429e-02, -1.69210648e-03,  5.00604361e-02, -3.04546785e-02,\n",
       "       -2.61960980e-02, -2.30121501e-02, -2.90850978e-02, -4.58987094e-02,\n",
       "       -5.86702041e-02, -1.46825947e-02, -4.71519902e-02, -5.22814319e-02,\n",
       "       -8.26379359e-02,  4.76932302e-02, -1.96246784e-02,  1.93280187e-02,\n",
       "        6.73128441e-02,  3.77001613e-02,  8.46512523e-03, -1.79780286e-03,\n",
       "        4.45565283e-02, -2.99495030e-02, -2.48243678e-02,  1.50002539e-03,\n",
       "        9.09469929e-03, -4.00958434e-02,  4.51407731e-02, -4.34143543e-02,\n",
       "       -9.42505449e-02, -1.89134981e-02, -1.61586851e-02,  3.86547558e-02,\n",
       "       -2.69339029e-02, -3.84192280e-02,  1.01349205e-02,  5.08989356e-02,\n",
       "        2.74186525e-02,  5.01282699e-02,  1.29587978e-01,  7.43648857e-02,\n",
       "       -4.98864390e-02,  2.07456648e-02,  3.13101001e-02, -1.34453401e-01,\n",
       "        2.06759162e-02,  1.87646355e-02,  5.84173873e-02, -4.09369804e-02,\n",
       "        5.09804748e-02, -6.69626286e-03, -6.37400672e-02, -8.83596297e-03,\n",
       "        2.61891037e-02, -2.17812154e-02, -5.60432076e-02, -5.04642073e-03,\n",
       "        2.69814823e-02, -3.31742316e-02,  3.47051024e-02,  4.63775313e-03,\n",
       "        4.38762084e-02,  6.49601817e-02, -6.81301951e-02,  1.10727167e-02,\n",
       "       -2.57073455e-02,  1.75710637e-02, -6.70656115e-02, -2.42202282e-02,\n",
       "       -4.60863896e-02, -1.37449980e-01,  5.70601933e-02,  1.09167591e-01,\n",
       "        6.38394207e-02,  6.14419766e-02, -1.02131173e-01, -6.77622259e-02,\n",
       "       -1.90216918e-02,  1.11435009e-02,  1.30147617e-02, -9.79121774e-03,\n",
       "        1.34507781e-02,  2.15312820e-02,  2.11553257e-02,  6.85862973e-02,\n",
       "        4.13811207e-02, -5.09464033e-02, -1.61829963e-02,  2.51462255e-02,\n",
       "       -6.55899569e-02,  8.64117220e-03,  2.03871466e-02,  1.86932236e-02,\n",
       "       -3.91754098e-02, -1.53869367e-03,  1.23725533e-02,  7.10321143e-02,\n",
       "        9.76804551e-03,  3.20408470e-03, -1.23726852e-01, -1.68842301e-02,\n",
       "        2.33964855e-03,  4.38982211e-02,  7.07519287e-03, -2.36407742e-02,\n",
       "        1.19397817e-02,  4.76641022e-02, -7.73737729e-02,  8.04649889e-02,\n",
       "       -1.41263008e-01, -3.65578420e-02, -1.64132994e-02,  1.92617439e-03,\n",
       "        4.40677516e-02, -3.36967744e-02,  7.09250495e-02,  6.65825233e-02,\n",
       "        1.73622761e-02, -1.05123892e-02,  5.19581996e-02,  5.04396297e-02,\n",
       "        8.42423365e-03,  2.73612496e-02,  3.17303766e-03, -2.06521545e-02,\n",
       "       -4.11671139e-02, -8.57952237e-02,  1.27863213e-02,  3.70408148e-02,\n",
       "       -3.67180966e-02, -2.29656212e-02,  7.05061667e-03,  4.84682024e-02,\n",
       "       -1.82124823e-02,  5.33045121e-02, -2.63179876e-02, -2.64704903e-03,\n",
       "       -1.73481684e-02, -5.13436608e-02,  3.65797095e-02,  9.55748931e-02,\n",
       "       -2.27438621e-02,  7.24742040e-02, -1.56687200e-02,  2.49579065e-02,\n",
       "       -2.02023657e-04, -4.04730327e-02,  4.03546095e-02,  3.55043560e-02,\n",
       "       -2.09297780e-02, -1.54123073e-02,  4.61704507e-02,  2.53255628e-02,\n",
       "       -3.50640118e-02,  1.61405336e-02,  5.84670249e-03, -4.21420187e-02,\n",
       "        7.76878465e-03,  3.30073424e-02,  3.53318192e-02,  1.91355683e-02,\n",
       "        3.26224044e-02,  4.73228805e-02,  6.39105290e-02,  6.13353215e-02,\n",
       "        2.80717816e-02, -7.22778030e-03, -1.16863651e-02,  8.02735165e-02,\n",
       "        7.70593586e-04, -2.23444570e-02, -4.52352948e-02, -4.68423180e-02,\n",
       "        5.29744439e-02, -4.98334831e-03,  1.57261323e-02,  9.70471930e-03,\n",
       "       -1.77645143e-02,  3.90584506e-02,  7.91256726e-02, -3.76961716e-02,\n",
       "        8.10942333e-03, -3.03972838e-03,  7.19980150e-02, -3.65246646e-02,\n",
       "       -2.56649293e-02,  5.07215457e-03,  1.65734440e-04, -1.61709897e-02,\n",
       "        4.26815115e-02,  5.07942773e-02,  1.37981698e-02, -4.31184806e-02,\n",
       "       -1.49318855e-02,  5.01964353e-02, -2.98778601e-02, -8.06786120e-02,\n",
       "        3.27675864e-02,  4.23524156e-02, -5.70490956e-03,  1.29102152e-02,\n",
       "        2.25207526e-02, -3.67468745e-02,  3.53937340e-03,  6.00989833e-02,\n",
       "        4.82374709e-03,  6.79794103e-02, -3.26048434e-02,  3.58398408e-02,\n",
       "       -3.00094057e-02, -4.53291163e-02,  4.60239723e-02, -3.52325067e-02,\n",
       "       -7.92475641e-02,  4.94680926e-02, -7.38872141e-02, -2.96785333e-03,\n",
       "        4.81853168e-03, -4.93425839e-02,  2.69675478e-02, -2.61623207e-02,\n",
       "       -5.15207760e-02,  2.53410731e-02, -2.54133940e-02,  5.16280644e-02,\n",
       "        1.02264760e-02,  2.97796689e-02, -2.56436430e-02, -1.05166221e-02,\n",
       "       -1.91527344e-02,  2.25704685e-02,  5.04606478e-02,  1.59720965e-02,\n",
       "        8.65709335e-02,  1.47245526e-02, -2.19017360e-02, -2.39674691e-02,\n",
       "       -3.07348203e-02,  1.81094259e-02, -1.24476207e-02, -2.89883409e-02,\n",
       "        4.92628776e-02,  3.54170166e-02, -5.13966754e-02, -1.77318044e-02,\n",
       "       -4.98000346e-02,  9.41106677e-03,  6.68563247e-02,  2.07124650e-02,\n",
       "        1.12384409e-02,  5.13366843e-03, -3.71054187e-03,  1.70970168e-02,\n",
       "        8.59828368e-02, -2.69197975e-03,  8.01925838e-04, -6.99445093e-03,\n",
       "       -2.14401968e-02, -5.46865165e-02,  1.26908002e-02,  1.75532699e-02,\n",
       "        1.32518699e-02,  2.59113479e-02,  3.06937844e-02,  1.97411757e-02,\n",
       "       -4.14116383e-02,  4.25019674e-02,  6.47594268e-03,  1.53558971e-02,\n",
       "       -4.13080193e-02, -1.78665519e-02,  2.40384461e-03,  5.92090636e-02,\n",
       "       -1.23301847e-02, -1.27444612e-02, -3.95129248e-02,  3.36919017e-02,\n",
       "        2.30981484e-02, -3.95103246e-02, -7.61634670e-03,  6.62299618e-02,\n",
       "       -4.62778062e-02,  9.81115364e-03, -3.66854109e-02,  1.57181863e-02,\n",
       "       -3.01969536e-02, -4.84427810e-02,  4.49502580e-02, -3.49860676e-02,\n",
       "       -4.16691005e-02,  2.96790469e-02,  4.68954630e-03,  3.68009955e-02,\n",
       "       -4.82522175e-02,  2.49169879e-02, -7.65252626e-03,  6.63860561e-03,\n",
       "       -3.99175026e-02, -3.84958871e-02, -2.81044506e-02, -4.94543239e-02,\n",
       "        1.64834782e-05,  4.61625792e-02, -6.41291449e-03, -4.89002354e-02,\n",
       "       -4.76523675e-02,  3.49367000e-02,  3.07613127e-02, -2.77279951e-02,\n",
       "        5.51236719e-02,  1.57195553e-02,  4.98151258e-02,  3.02699916e-02,\n",
       "        2.57443897e-02,  6.11906610e-02, -9.68745723e-02, -3.52628343e-02,\n",
       "       -1.06820688e-02, -5.11207543e-02,  3.83654684e-02, -1.82116479e-02,\n",
       "        2.64934711e-02,  1.50607442e-02, -3.13936174e-02, -1.06576616e-02,\n",
       "        1.41500514e-02,  4.93082858e-04, -3.76909114e-02, -7.12866569e-03,\n",
       "       -5.56574278e-02,  1.63751021e-02,  4.02562022e-02, -1.25010097e-02,\n",
       "        3.20217945e-02,  8.29571933e-02, -4.47115563e-02, -2.34597782e-03,\n",
       "        2.91614719e-02, -3.82464454e-02,  1.60554107e-02, -6.52451664e-02,\n",
       "        1.28001189e-02,  8.07561427e-02,  2.66563389e-02, -2.13297699e-02,\n",
       "       -8.20195675e-02,  6.66521676e-03, -7.23393038e-02,  3.70980278e-02,\n",
       "        3.24558802e-02, -2.62465533e-02,  5.84024563e-02,  5.05779346e-04,\n",
       "        5.41175790e-02,  3.41967642e-02, -2.36806814e-02,  5.57946914e-04,\n",
       "        4.81228717e-02,  2.01015528e-02,  4.03726064e-02, -1.93200968e-02,\n",
       "       -9.10167992e-02,  1.08430199e-02, -2.24070344e-02,  1.44963469e-02,\n",
       "        1.13032244e-01,  6.70713112e-02,  1.78258605e-02,  6.50982186e-02,\n",
       "       -3.96599434e-02, -8.03156197e-02, -3.07470951e-02, -3.35096829e-02,\n",
       "       -2.39047296e-02, -1.21247896e-03,  6.08898066e-02, -5.96980506e-04,\n",
       "       -3.20670158e-02, -1.03404243e-02, -5.19182384e-02,  3.89673635e-02],\n",
       "      dtype=float32)"
      ]
     },
     "execution_count": 58,
     "metadata": {},
     "output_type": "execute_result"
    }
   ],
   "source": [
    "emb = model.encode(text)\n",
    "emb"
   ]
  },
  {
   "cell_type": "code",
   "execution_count": 60,
   "id": "8afd2b53-810d-4e8e-b1b1-2f526c36b197",
   "metadata": {},
   "outputs": [
    {
     "name": "stdout",
     "output_type": "stream",
     "text": [
      "Why is life so unfair and difficult?\n",
      "Why do you think life sucks?\n",
      "Why is life not worth living?\n",
      "Why is life boring sometimes?\n",
      "Why is life so meaningless and boring?\n",
      "Why do you live your life?\n",
      "Why do we live? Why do we try?\n",
      "Why is life beautiful?\n",
      "Why do people live?\n",
      "Why is life so unfair & unjust?\n"
     ]
    }
   ],
   "source": [
    "nns = index.get_nns_by_vector(emb, 10)\n",
    "for nn in nns:\n",
    "    print(df2.query(\"uid == {:d}\".format(nn)).iloc[0][\"question\"])"
   ]
  },
  {
   "cell_type": "code",
   "execution_count": null,
   "id": "5d2395d9-eecb-4a18-ac3b-e63363361ed9",
   "metadata": {},
   "outputs": [],
   "source": []
  }
 ],
 "metadata": {
  "kernelspec": {
   "display_name": "general-ds",
   "language": "python",
   "name": "general-ds"
  },
  "language_info": {
   "codemirror_mode": {
    "name": "ipython",
    "version": 3
   },
   "file_extension": ".py",
   "mimetype": "text/x-python",
   "name": "python",
   "nbconvert_exporter": "python",
   "pygments_lexer": "ipython3",
   "version": "3.8.10"
  }
 },
 "nbformat": 4,
 "nbformat_minor": 5
}
