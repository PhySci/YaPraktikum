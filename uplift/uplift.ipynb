{
 "cells": [
  {
   "cell_type": "markdown",
   "id": "c0a2c646-6fcf-4408-8be0-1ce42849897f",
   "metadata": {},
   "source": [
    "# Uplift моделирование\n",
    "\n",
    "Разбор подходов к выбору целевых пользователей, для которых необходимо провести целевое воздействие"
   ]
  },
  {
   "cell_type": "code",
   "execution_count": 2,
   "id": "c15dfb34-6e58-4429-8594-30dfdd5753c6",
   "metadata": {},
   "outputs": [],
   "source": [
    "import pandas as pd\n",
    "import seaborn as sns"
   ]
  },
  {
   "cell_type": "markdown",
   "id": "73259475-b0bb-426a-b1b8-d58bbbbce43e",
   "metadata": {},
   "source": [
    "# Import data"
   ]
  },
  {
   "cell_type": "code",
   "execution_count": 3,
   "id": "79f73ed7-b041-4252-aa5a-60b064d496fb",
   "metadata": {},
   "outputs": [],
   "source": [
    "df_raw = pd.read_csv(\"./data/criteo-uplift-v2.1.csv\")"
   ]
  },
  {
   "cell_type": "code",
   "execution_count": 4,
   "id": "5edea843-13a5-4722-8521-a461e1235a78",
   "metadata": {},
   "outputs": [
    {
     "data": {
      "text/plain": [
       "(13979592, 16)"
      ]
     },
     "execution_count": 4,
     "metadata": {},
     "output_type": "execute_result"
    }
   ],
   "source": [
    "df_raw.shape"
   ]
  },
  {
   "cell_type": "code",
   "execution_count": 6,
   "id": "f2321c3c-fbf1-49f3-b4dd-39aedfa27bdc",
   "metadata": {},
   "outputs": [],
   "source": [
    "df = df_raw.sample(n=1000000)"
   ]
  },
  {
   "cell_type": "code",
   "execution_count": 7,
   "id": "f62e65bb-7ca9-4135-8472-2952a72384c3",
   "metadata": {},
   "outputs": [],
   "source": [
    "del df_raw"
   ]
  },
  {
   "cell_type": "code",
   "execution_count": 8,
   "id": "a31d07bb-f395-4767-abc1-81885b2fad63",
   "metadata": {},
   "outputs": [
    {
     "data": {
      "text/plain": [
       "f0            float64\n",
       "f1            float64\n",
       "f2            float64\n",
       "f3            float64\n",
       "f4            float64\n",
       "f5            float64\n",
       "f6            float64\n",
       "f7            float64\n",
       "f8            float64\n",
       "f9            float64\n",
       "f10           float64\n",
       "f11           float64\n",
       "treatment       int64\n",
       "conversion      int64\n",
       "visit           int64\n",
       "exposure        int64\n",
       "dtype: object"
      ]
     },
     "execution_count": 8,
     "metadata": {},
     "output_type": "execute_result"
    }
   ],
   "source": [
    "df.dtypes"
   ]
  },
  {
   "cell_type": "code",
   "execution_count": 9,
   "id": "d381f280-8109-4191-83b4-6ed50f00a25b",
   "metadata": {},
   "outputs": [
    {
     "data": {
      "text/html": [
       "<div>\n",
       "<style scoped>\n",
       "    .dataframe tbody tr th:only-of-type {\n",
       "        vertical-align: middle;\n",
       "    }\n",
       "\n",
       "    .dataframe tbody tr th {\n",
       "        vertical-align: top;\n",
       "    }\n",
       "\n",
       "    .dataframe thead th {\n",
       "        text-align: right;\n",
       "    }\n",
       "</style>\n",
       "<table border=\"1\" class=\"dataframe\">\n",
       "  <thead>\n",
       "    <tr style=\"text-align: right;\">\n",
       "      <th></th>\n",
       "      <th>f0</th>\n",
       "      <th>f1</th>\n",
       "      <th>f2</th>\n",
       "      <th>f3</th>\n",
       "      <th>f4</th>\n",
       "      <th>f5</th>\n",
       "      <th>f6</th>\n",
       "      <th>f7</th>\n",
       "      <th>f8</th>\n",
       "      <th>f9</th>\n",
       "      <th>f10</th>\n",
       "      <th>f11</th>\n",
       "      <th>treatment</th>\n",
       "      <th>conversion</th>\n",
       "      <th>visit</th>\n",
       "      <th>exposure</th>\n",
       "    </tr>\n",
       "  </thead>\n",
       "  <tbody>\n",
       "    <tr>\n",
       "      <th>360096</th>\n",
       "      <td>22.662852</td>\n",
       "      <td>10.059654</td>\n",
       "      <td>8.214383</td>\n",
       "      <td>4.679882</td>\n",
       "      <td>10.280525</td>\n",
       "      <td>4.115453</td>\n",
       "      <td>-6.699321</td>\n",
       "      <td>4.833815</td>\n",
       "      <td>3.971858</td>\n",
       "      <td>13.190056</td>\n",
       "      <td>5.300375</td>\n",
       "      <td>-0.168679</td>\n",
       "      <td>1</td>\n",
       "      <td>0</td>\n",
       "      <td>0</td>\n",
       "      <td>0</td>\n",
       "    </tr>\n",
       "    <tr>\n",
       "      <th>8984275</th>\n",
       "      <td>12.660561</td>\n",
       "      <td>10.059654</td>\n",
       "      <td>8.481592</td>\n",
       "      <td>-2.118394</td>\n",
       "      <td>10.280525</td>\n",
       "      <td>4.115453</td>\n",
       "      <td>-13.638493</td>\n",
       "      <td>4.833815</td>\n",
       "      <td>3.755742</td>\n",
       "      <td>35.986429</td>\n",
       "      <td>5.300375</td>\n",
       "      <td>-0.168679</td>\n",
       "      <td>1</td>\n",
       "      <td>0</td>\n",
       "      <td>1</td>\n",
       "      <td>0</td>\n",
       "    </tr>\n",
       "    <tr>\n",
       "      <th>903162</th>\n",
       "      <td>22.327732</td>\n",
       "      <td>10.059654</td>\n",
       "      <td>8.214383</td>\n",
       "      <td>4.679882</td>\n",
       "      <td>10.280525</td>\n",
       "      <td>4.115453</td>\n",
       "      <td>-1.288207</td>\n",
       "      <td>4.833815</td>\n",
       "      <td>3.971858</td>\n",
       "      <td>13.190056</td>\n",
       "      <td>5.300375</td>\n",
       "      <td>-0.168679</td>\n",
       "      <td>1</td>\n",
       "      <td>0</td>\n",
       "      <td>0</td>\n",
       "      <td>0</td>\n",
       "    </tr>\n",
       "    <tr>\n",
       "      <th>4285104</th>\n",
       "      <td>24.371796</td>\n",
       "      <td>10.059654</td>\n",
       "      <td>8.296296</td>\n",
       "      <td>4.679882</td>\n",
       "      <td>10.280525</td>\n",
       "      <td>4.115453</td>\n",
       "      <td>-13.412152</td>\n",
       "      <td>4.833815</td>\n",
       "      <td>3.821584</td>\n",
       "      <td>27.760385</td>\n",
       "      <td>5.300375</td>\n",
       "      <td>-0.168679</td>\n",
       "      <td>1</td>\n",
       "      <td>0</td>\n",
       "      <td>1</td>\n",
       "      <td>0</td>\n",
       "    </tr>\n",
       "    <tr>\n",
       "      <th>10771332</th>\n",
       "      <td>15.030845</td>\n",
       "      <td>10.059654</td>\n",
       "      <td>8.337377</td>\n",
       "      <td>1.114982</td>\n",
       "      <td>10.280525</td>\n",
       "      <td>4.115453</td>\n",
       "      <td>-7.011752</td>\n",
       "      <td>4.833815</td>\n",
       "      <td>3.733448</td>\n",
       "      <td>57.137402</td>\n",
       "      <td>5.300375</td>\n",
       "      <td>-0.168679</td>\n",
       "      <td>1</td>\n",
       "      <td>0</td>\n",
       "      <td>1</td>\n",
       "      <td>0</td>\n",
       "    </tr>\n",
       "  </tbody>\n",
       "</table>\n",
       "</div>"
      ],
      "text/plain": [
       "                 f0         f1        f2        f3         f4        f5  \\\n",
       "360096    22.662852  10.059654  8.214383  4.679882  10.280525  4.115453   \n",
       "8984275   12.660561  10.059654  8.481592 -2.118394  10.280525  4.115453   \n",
       "903162    22.327732  10.059654  8.214383  4.679882  10.280525  4.115453   \n",
       "4285104   24.371796  10.059654  8.296296  4.679882  10.280525  4.115453   \n",
       "10771332  15.030845  10.059654  8.337377  1.114982  10.280525  4.115453   \n",
       "\n",
       "                 f6        f7        f8         f9       f10       f11  \\\n",
       "360096    -6.699321  4.833815  3.971858  13.190056  5.300375 -0.168679   \n",
       "8984275  -13.638493  4.833815  3.755742  35.986429  5.300375 -0.168679   \n",
       "903162    -1.288207  4.833815  3.971858  13.190056  5.300375 -0.168679   \n",
       "4285104  -13.412152  4.833815  3.821584  27.760385  5.300375 -0.168679   \n",
       "10771332  -7.011752  4.833815  3.733448  57.137402  5.300375 -0.168679   \n",
       "\n",
       "          treatment  conversion  visit  exposure  \n",
       "360096            1           0      0         0  \n",
       "8984275           1           0      1         0  \n",
       "903162            1           0      0         0  \n",
       "4285104           1           0      1         0  \n",
       "10771332          1           0      1         0  "
      ]
     },
     "execution_count": 9,
     "metadata": {},
     "output_type": "execute_result"
    }
   ],
   "source": [
    "df.head()"
   ]
  },
  {
   "cell_type": "markdown",
   "id": "0b2f480e-3fc4-4862-ba2c-1437fbcaec3b",
   "metadata": {},
   "source": [
    "# EDA"
   ]
  },
  {
   "cell_type": "markdown",
   "id": "e9df177c-b717-47c5-a1d5-11768540dd01",
   "metadata": {},
   "source": [
    "## Features"
   ]
  },
  {
   "cell_type": "code",
   "execution_count": 10,
   "id": "36bd7587-8317-4d48-a6a7-99db625afb13",
   "metadata": {},
   "outputs": [],
   "source": [
    "feat_cols = [\"f{:d}\".format(el) for el in range(11)]"
   ]
  },
  {
   "cell_type": "code",
   "execution_count": 11,
   "id": "464476ba-d6b3-4025-894c-33cca3986bb0",
   "metadata": {},
   "outputs": [
    {
     "data": {
      "image/png": "[encoded data removed]",
      "text/plain": [
       "<Figure size 720x720 with 12 Axes>"
      ]
     },
     "metadata": {
      "needs_background": "light"
     },
     "output_type": "display_data"
    }
   ],
   "source": [
    "df[feat_cols].hist(bins=50, figsize=(10, 10));"
   ]
  },
  {
   "cell_type": "markdown",
   "id": "817fddf6-e7e6-4b75-907a-dd5a30f4908c",
   "metadata": {},
   "source": [
    "## Target and threatment"
   ]
  },
  {
   "cell_type": "code",
   "execution_count": 15,
   "id": "b8040658-d818-4ff0-be84-0ef4f905f1a9",
   "metadata": {},
   "outputs": [
    {
     "data": {
      "text/html": [
       "<div>\n",
       "<style scoped>\n",
       "    .dataframe tbody tr th:only-of-type {\n",
       "        vertical-align: middle;\n",
       "    }\n",
       "\n",
       "    .dataframe tbody tr th {\n",
       "        vertical-align: top;\n",
       "    }\n",
       "\n",
       "    .dataframe thead th {\n",
       "        text-align: right;\n",
       "    }\n",
       "</style>\n",
       "<table border=\"1\" class=\"dataframe\">\n",
       "  <thead>\n",
       "    <tr style=\"text-align: right;\">\n",
       "      <th>treatment</th>\n",
       "      <th>0</th>\n",
       "      <th>1</th>\n",
       "    </tr>\n",
       "    <tr>\n",
       "      <th>conversion</th>\n",
       "      <th></th>\n",
       "      <th></th>\n",
       "    </tr>\n",
       "  </thead>\n",
       "  <tbody>\n",
       "    <tr>\n",
       "      <th>0</th>\n",
       "      <td>149763</td>\n",
       "      <td>847266</td>\n",
       "    </tr>\n",
       "    <tr>\n",
       "      <th>1</th>\n",
       "      <td>288</td>\n",
       "      <td>2683</td>\n",
       "    </tr>\n",
       "  </tbody>\n",
       "</table>\n",
       "</div>"
      ],
      "text/plain": [
       "treatment        0       1\n",
       "conversion                \n",
       "0           149763  847266\n",
       "1              288    2683"
      ]
     },
     "execution_count": 15,
     "metadata": {},
     "output_type": "execute_result"
    }
   ],
   "source": [
    "pd.crosstab(df[\"conversion\"], df[\"treatment\"])"
   ]
  },
  {
   "cell_type": "markdown",
   "id": "e558d04a-8942-423c-b334-8a9f65d7979e",
   "metadata": {},
   "source": [
    "# Approaches"
   ]
  },
  {
   "cell_type": "code",
   "execution_count": 25,
   "id": "91e19606-f3f0-45c5-a509-54e5751a258d",
   "metadata": {},
   "outputs": [
    {
     "data": {
      "text/html": [
       "<div>\n",
       "<style scoped>\n",
       "    .dataframe tbody tr th:only-of-type {\n",
       "        vertical-align: middle;\n",
       "    }\n",
       "\n",
       "    .dataframe tbody tr th {\n",
       "        vertical-align: top;\n",
       "    }\n",
       "\n",
       "    .dataframe thead th {\n",
       "        text-align: right;\n",
       "    }\n",
       "</style>\n",
       "<table border=\"1\" class=\"dataframe\">\n",
       "  <thead>\n",
       "    <tr style=\"text-align: right;\">\n",
       "      <th></th>\n",
       "      <th>f0</th>\n",
       "      <th>f1</th>\n",
       "      <th>f2</th>\n",
       "      <th>f3</th>\n",
       "      <th>f4</th>\n",
       "      <th>f5</th>\n",
       "      <th>f6</th>\n",
       "      <th>f7</th>\n",
       "      <th>f8</th>\n",
       "      <th>f9</th>\n",
       "      <th>f10</th>\n",
       "      <th>f11</th>\n",
       "      <th>treatment</th>\n",
       "      <th>conversion</th>\n",
       "      <th>visit</th>\n",
       "      <th>exposure</th>\n",
       "    </tr>\n",
       "  </thead>\n",
       "  <tbody>\n",
       "    <tr>\n",
       "      <th>360096</th>\n",
       "      <td>22.662852</td>\n",
       "      <td>10.059654</td>\n",
       "      <td>8.214383</td>\n",
       "      <td>4.679882</td>\n",
       "      <td>10.280525</td>\n",
       "      <td>4.115453</td>\n",
       "      <td>-6.699321</td>\n",
       "      <td>4.833815</td>\n",
       "      <td>3.971858</td>\n",
       "      <td>13.190056</td>\n",
       "      <td>5.300375</td>\n",
       "      <td>-0.168679</td>\n",
       "      <td>1</td>\n",
       "      <td>0</td>\n",
       "      <td>0</td>\n",
       "      <td>0</td>\n",
       "    </tr>\n",
       "    <tr>\n",
       "      <th>8984275</th>\n",
       "      <td>12.660561</td>\n",
       "      <td>10.059654</td>\n",
       "      <td>8.481592</td>\n",
       "      <td>-2.118394</td>\n",
       "      <td>10.280525</td>\n",
       "      <td>4.115453</td>\n",
       "      <td>-13.638493</td>\n",
       "      <td>4.833815</td>\n",
       "      <td>3.755742</td>\n",
       "      <td>35.986429</td>\n",
       "      <td>5.300375</td>\n",
       "      <td>-0.168679</td>\n",
       "      <td>1</td>\n",
       "      <td>0</td>\n",
       "      <td>1</td>\n",
       "      <td>0</td>\n",
       "    </tr>\n",
       "    <tr>\n",
       "      <th>903162</th>\n",
       "      <td>22.327732</td>\n",
       "      <td>10.059654</td>\n",
       "      <td>8.214383</td>\n",
       "      <td>4.679882</td>\n",
       "      <td>10.280525</td>\n",
       "      <td>4.115453</td>\n",
       "      <td>-1.288207</td>\n",
       "      <td>4.833815</td>\n",
       "      <td>3.971858</td>\n",
       "      <td>13.190056</td>\n",
       "      <td>5.300375</td>\n",
       "      <td>-0.168679</td>\n",
       "      <td>1</td>\n",
       "      <td>0</td>\n",
       "      <td>0</td>\n",
       "      <td>0</td>\n",
       "    </tr>\n",
       "    <tr>\n",
       "      <th>4285104</th>\n",
       "      <td>24.371796</td>\n",
       "      <td>10.059654</td>\n",
       "      <td>8.296296</td>\n",
       "      <td>4.679882</td>\n",
       "      <td>10.280525</td>\n",
       "      <td>4.115453</td>\n",
       "      <td>-13.412152</td>\n",
       "      <td>4.833815</td>\n",
       "      <td>3.821584</td>\n",
       "      <td>27.760385</td>\n",
       "      <td>5.300375</td>\n",
       "      <td>-0.168679</td>\n",
       "      <td>1</td>\n",
       "      <td>0</td>\n",
       "      <td>1</td>\n",
       "      <td>0</td>\n",
       "    </tr>\n",
       "    <tr>\n",
       "      <th>10771332</th>\n",
       "      <td>15.030845</td>\n",
       "      <td>10.059654</td>\n",
       "      <td>8.337377</td>\n",
       "      <td>1.114982</td>\n",
       "      <td>10.280525</td>\n",
       "      <td>4.115453</td>\n",
       "      <td>-7.011752</td>\n",
       "      <td>4.833815</td>\n",
       "      <td>3.733448</td>\n",
       "      <td>57.137402</td>\n",
       "      <td>5.300375</td>\n",
       "      <td>-0.168679</td>\n",
       "      <td>1</td>\n",
       "      <td>0</td>\n",
       "      <td>1</td>\n",
       "      <td>0</td>\n",
       "    </tr>\n",
       "  </tbody>\n",
       "</table>\n",
       "</div>"
      ],
      "text/plain": [
       "                 f0         f1        f2        f3         f4        f5  \\\n",
       "360096    22.662852  10.059654  8.214383  4.679882  10.280525  4.115453   \n",
       "8984275   12.660561  10.059654  8.481592 -2.118394  10.280525  4.115453   \n",
       "903162    22.327732  10.059654  8.214383  4.679882  10.280525  4.115453   \n",
       "4285104   24.371796  10.059654  8.296296  4.679882  10.280525  4.115453   \n",
       "10771332  15.030845  10.059654  8.337377  1.114982  10.280525  4.115453   \n",
       "\n",
       "                 f6        f7        f8         f9       f10       f11  \\\n",
       "360096    -6.699321  4.833815  3.971858  13.190056  5.300375 -0.168679   \n",
       "8984275  -13.638493  4.833815  3.755742  35.986429  5.300375 -0.168679   \n",
       "903162    -1.288207  4.833815  3.971858  13.190056  5.300375 -0.168679   \n",
       "4285104  -13.412152  4.833815  3.821584  27.760385  5.300375 -0.168679   \n",
       "10771332  -7.011752  4.833815  3.733448  57.137402  5.300375 -0.168679   \n",
       "\n",
       "          treatment  conversion  visit  exposure  \n",
       "360096            1           0      0         0  \n",
       "8984275           1           0      1         0  \n",
       "903162            1           0      0         0  \n",
       "4285104           1           0      1         0  \n",
       "10771332          1           0      1         0  "
      ]
     },
     "execution_count": 25,
     "metadata": {},
     "output_type": "execute_result"
    }
   ],
   "source": [
    "df.head()"
   ]
  },
  {
   "cell_type": "code",
   "execution_count": 26,
   "id": "144228d9-14e9-4dd0-8ba0-aa231a040261",
   "metadata": {},
   "outputs": [],
   "source": [
    "from sklearn.model_selection import train_test_split"
   ]
  },
  {
   "cell_type": "code",
   "execution_count": 29,
   "id": "f200f151-073c-4d0f-b9b7-c2500db97d30",
   "metadata": {},
   "outputs": [],
   "source": [
    "x_train, x_test, tr_train, tr_test, resp_train, resp_test = train_test_split(df[feat_cols], df[\"treatment\"], df[\"conversion\"])"
   ]
  },
  {
   "cell_type": "markdown",
   "id": "29e66641-b6f0-4f80-a35b-6385bb3250f4",
   "metadata": {},
   "source": [
    "## Solo model"
   ]
  },
  {
   "cell_type": "code",
   "execution_count": 54,
   "id": "0c0a7c88-c25b-4989-9389-8cb03b188a74",
   "metadata": {},
   "outputs": [],
   "source": [
    "from catboost import CatBoostClassifier\n",
    "from sklift.models import SoloModel"
   ]
  },
  {
   "cell_type": "code",
   "execution_count": 56,
   "id": "a014c118-65aa-43bc-a952-5592af9c5325",
   "metadata": {
    "collapsed": true,
    "jupyter": {
     "outputs_hidden": true
    },
    "tags": []
   },
   "outputs": [
    {
     "name": "stdout",
     "output_type": "stream",
     "text": [
      "Learning rate set to 0.328571\n",
      "0:\tlearn: 0.1184336\ttotal: 29.4ms\tremaining: 14.6s\n",
      "1:\tlearn: 0.0350466\ttotal: 63.1ms\tremaining: 15.7s\n",
      "2:\tlearn: 0.0178602\ttotal: 93.2ms\tremaining: 15.4s\n",
      "3:\tlearn: 0.0143793\ttotal: 124ms\tremaining: 15.4s\n",
      "4:\tlearn: 0.0131159\ttotal: 151ms\tremaining: 14.9s\n",
      "5:\tlearn: 0.0127156\ttotal: 184ms\tremaining: 15.1s\n",
      "6:\tlearn: 0.0123717\ttotal: 221ms\tremaining: 15.5s\n",
      "7:\tlearn: 0.0122783\ttotal: 256ms\tremaining: 15.7s\n",
      "8:\tlearn: 0.0122282\ttotal: 284ms\tremaining: 15.5s\n",
      "9:\tlearn: 0.0121407\ttotal: 314ms\tremaining: 15.4s\n",
      "10:\tlearn: 0.0120786\ttotal: 342ms\tremaining: 15.2s\n",
      "11:\tlearn: 0.0120256\ttotal: 372ms\tremaining: 15.1s\n",
      "12:\tlearn: 0.0120034\ttotal: 406ms\tremaining: 15.2s\n",
      "13:\tlearn: 0.0118909\ttotal: 440ms\tremaining: 15.3s\n",
      "14:\tlearn: 0.0118590\ttotal: 470ms\tremaining: 15.2s\n",
      "15:\tlearn: 0.0118529\ttotal: 496ms\tremaining: 15s\n",
      "16:\tlearn: 0.0118087\ttotal: 525ms\tremaining: 14.9s\n",
      "17:\tlearn: 0.0117884\ttotal: 553ms\tremaining: 14.8s\n",
      "18:\tlearn: 0.0117613\ttotal: 583ms\tremaining: 14.8s\n",
      "19:\tlearn: 0.0117518\ttotal: 612ms\tremaining: 14.7s\n",
      "20:\tlearn: 0.0117268\ttotal: 653ms\tremaining: 14.9s\n",
      "21:\tlearn: 0.0116883\ttotal: 686ms\tremaining: 14.9s\n",
      "22:\tlearn: 0.0116752\ttotal: 711ms\tremaining: 14.7s\n",
      "23:\tlearn: 0.0116486\ttotal: 740ms\tremaining: 14.7s\n",
      "24:\tlearn: 0.0116215\ttotal: 768ms\tremaining: 14.6s\n",
      "25:\tlearn: 0.0116044\ttotal: 800ms\tremaining: 14.6s\n",
      "26:\tlearn: 0.0115921\ttotal: 840ms\tremaining: 14.7s\n",
      "27:\tlearn: 0.0115707\ttotal: 877ms\tremaining: 14.8s\n",
      "28:\tlearn: 0.0115436\ttotal: 908ms\tremaining: 14.8s\n",
      "29:\tlearn: 0.0115248\ttotal: 937ms\tremaining: 14.7s\n",
      "30:\tlearn: 0.0115150\ttotal: 965ms\tremaining: 14.6s\n",
      "31:\tlearn: 0.0114979\ttotal: 992ms\tremaining: 14.5s\n",
      "32:\tlearn: 0.0114732\ttotal: 1.02s\tremaining: 14.5s\n",
      "33:\tlearn: 0.0114654\ttotal: 1.06s\tremaining: 14.5s\n",
      "34:\tlearn: 0.0114428\ttotal: 1.1s\tremaining: 14.6s\n",
      "35:\tlearn: 0.0114351\ttotal: 1.13s\tremaining: 14.5s\n",
      "36:\tlearn: 0.0114106\ttotal: 1.16s\tremaining: 14.6s\n",
      "37:\tlearn: 0.0113867\ttotal: 1.19s\tremaining: 14.5s\n",
      "38:\tlearn: 0.0113737\ttotal: 1.23s\tremaining: 14.5s\n",
      "39:\tlearn: 0.0113477\ttotal: 1.26s\tremaining: 14.5s\n",
      "40:\tlearn: 0.0113348\ttotal: 1.29s\tremaining: 14.5s\n",
      "41:\tlearn: 0.0113163\ttotal: 1.33s\tremaining: 14.5s\n",
      "42:\tlearn: 0.0112888\ttotal: 1.36s\tremaining: 14.4s\n",
      "43:\tlearn: 0.0112646\ttotal: 1.39s\tremaining: 14.4s\n",
      "44:\tlearn: 0.0112511\ttotal: 1.42s\tremaining: 14.3s\n",
      "45:\tlearn: 0.0112259\ttotal: 1.45s\tremaining: 14.3s\n",
      "46:\tlearn: 0.0112131\ttotal: 1.49s\tremaining: 14.3s\n",
      "47:\tlearn: 0.0111983\ttotal: 1.52s\tremaining: 14.3s\n",
      "48:\tlearn: 0.0111887\ttotal: 1.55s\tremaining: 14.3s\n",
      "49:\tlearn: 0.0111761\ttotal: 1.58s\tremaining: 14.3s\n",
      "50:\tlearn: 0.0111464\ttotal: 1.62s\tremaining: 14.3s\n",
      "51:\tlearn: 0.0111342\ttotal: 1.65s\tremaining: 14.2s\n",
      "52:\tlearn: 0.0111153\ttotal: 1.69s\tremaining: 14.2s\n",
      "53:\tlearn: 0.0111009\ttotal: 1.73s\tremaining: 14.3s\n",
      "54:\tlearn: 0.0110834\ttotal: 1.76s\tremaining: 14.3s\n",
      "55:\tlearn: 0.0110684\ttotal: 1.79s\tremaining: 14.2s\n",
      "56:\tlearn: 0.0110409\ttotal: 1.82s\tremaining: 14.2s\n",
      "57:\tlearn: 0.0110310\ttotal: 1.85s\tremaining: 14.1s\n",
      "58:\tlearn: 0.0110221\ttotal: 1.89s\tremaining: 14.1s\n",
      "59:\tlearn: 0.0109987\ttotal: 1.92s\tremaining: 14.1s\n",
      "60:\tlearn: 0.0109873\ttotal: 1.96s\tremaining: 14.1s\n",
      "61:\tlearn: 0.0109782\ttotal: 1.99s\tremaining: 14s\n",
      "62:\tlearn: 0.0109712\ttotal: 2.03s\tremaining: 14.1s\n",
      "63:\tlearn: 0.0109471\ttotal: 2.08s\tremaining: 14.2s\n",
      "64:\tlearn: 0.0109305\ttotal: 2.13s\tremaining: 14.3s\n",
      "65:\tlearn: 0.0109221\ttotal: 2.17s\tremaining: 14.3s\n",
      "66:\tlearn: 0.0109089\ttotal: 2.22s\tremaining: 14.4s\n",
      "67:\tlearn: 0.0108901\ttotal: 2.26s\tremaining: 14.4s\n",
      "68:\tlearn: 0.0108786\ttotal: 2.3s\tremaining: 14.4s\n",
      "69:\tlearn: 0.0108711\ttotal: 2.35s\tremaining: 14.5s\n",
      "70:\tlearn: 0.0108555\ttotal: 2.4s\tremaining: 14.5s\n",
      "71:\tlearn: 0.0108447\ttotal: 2.44s\tremaining: 14.5s\n",
      "72:\tlearn: 0.0108325\ttotal: 2.48s\tremaining: 14.5s\n",
      "73:\tlearn: 0.0108181\ttotal: 2.51s\tremaining: 14.4s\n",
      "74:\tlearn: 0.0108004\ttotal: 2.54s\tremaining: 14.4s\n",
      "75:\tlearn: 0.0107902\ttotal: 2.58s\tremaining: 14.4s\n",
      "76:\tlearn: 0.0107773\ttotal: 2.61s\tremaining: 14.3s\n",
      "77:\tlearn: 0.0107533\ttotal: 2.64s\tremaining: 14.3s\n",
      "78:\tlearn: 0.0107382\ttotal: 2.67s\tremaining: 14.3s\n",
      "79:\tlearn: 0.0107307\ttotal: 2.71s\tremaining: 14.2s\n",
      "80:\tlearn: 0.0107143\ttotal: 2.76s\tremaining: 14.3s\n",
      "81:\tlearn: 0.0107012\ttotal: 2.8s\tremaining: 14.3s\n",
      "82:\tlearn: 0.0106885\ttotal: 2.83s\tremaining: 14.2s\n",
      "83:\tlearn: 0.0106804\ttotal: 2.88s\tremaining: 14.2s\n",
      "84:\tlearn: 0.0106638\ttotal: 2.91s\tremaining: 14.2s\n",
      "85:\tlearn: 0.0106482\ttotal: 2.94s\tremaining: 14.1s\n",
      "86:\tlearn: 0.0106443\ttotal: 2.97s\tremaining: 14.1s\n",
      "87:\tlearn: 0.0106402\ttotal: 3.01s\tremaining: 14.1s\n",
      "88:\tlearn: 0.0106345\ttotal: 3.04s\tremaining: 14.1s\n",
      "89:\tlearn: 0.0106253\ttotal: 3.08s\tremaining: 14s\n",
      "90:\tlearn: 0.0106186\ttotal: 3.11s\tremaining: 14s\n",
      "91:\tlearn: 0.0106072\ttotal: 3.14s\tremaining: 13.9s\n",
      "92:\tlearn: 0.0105901\ttotal: 3.17s\tremaining: 13.9s\n",
      "93:\tlearn: 0.0105877\ttotal: 3.21s\tremaining: 13.8s\n",
      "94:\tlearn: 0.0105831\ttotal: 3.24s\tremaining: 13.8s\n",
      "95:\tlearn: 0.0105588\ttotal: 3.28s\tremaining: 13.8s\n",
      "96:\tlearn: 0.0105518\ttotal: 3.31s\tremaining: 13.8s\n",
      "97:\tlearn: 0.0105420\ttotal: 3.34s\tremaining: 13.7s\n",
      "98:\tlearn: 0.0105302\ttotal: 3.37s\tremaining: 13.7s\n",
      "99:\tlearn: 0.0105200\ttotal: 3.4s\tremaining: 13.6s\n",
      "100:\tlearn: 0.0105043\ttotal: 3.46s\tremaining: 13.7s\n",
      "101:\tlearn: 0.0104936\ttotal: 3.49s\tremaining: 13.6s\n",
      "102:\tlearn: 0.0104854\ttotal: 3.52s\tremaining: 13.6s\n",
      "103:\tlearn: 0.0104791\ttotal: 3.56s\tremaining: 13.6s\n",
      "104:\tlearn: 0.0104648\ttotal: 3.61s\tremaining: 13.6s\n",
      "105:\tlearn: 0.0104490\ttotal: 3.66s\tremaining: 13.6s\n",
      "106:\tlearn: 0.0104407\ttotal: 3.69s\tremaining: 13.6s\n",
      "107:\tlearn: 0.0104256\ttotal: 3.72s\tremaining: 13.5s\n",
      "108:\tlearn: 0.0104179\ttotal: 3.75s\tremaining: 13.4s\n",
      "109:\tlearn: 0.0104012\ttotal: 3.78s\tremaining: 13.4s\n",
      "110:\tlearn: 0.0103973\ttotal: 3.81s\tremaining: 13.3s\n",
      "111:\tlearn: 0.0103832\ttotal: 3.84s\tremaining: 13.3s\n",
      "112:\tlearn: 0.0103702\ttotal: 3.87s\tremaining: 13.3s\n",
      "113:\tlearn: 0.0103535\ttotal: 3.9s\tremaining: 13.2s\n",
      "114:\tlearn: 0.0103479\ttotal: 3.94s\tremaining: 13.2s\n",
      "115:\tlearn: 0.0103467\ttotal: 3.98s\tremaining: 13.2s\n",
      "116:\tlearn: 0.0103355\ttotal: 4.01s\tremaining: 13.1s\n",
      "117:\tlearn: 0.0103184\ttotal: 4.04s\tremaining: 13.1s\n",
      "118:\tlearn: 0.0103048\ttotal: 4.07s\tremaining: 13s\n",
      "119:\tlearn: 0.0103006\ttotal: 4.11s\tremaining: 13s\n",
      "120:\tlearn: 0.0102927\ttotal: 4.14s\tremaining: 13s\n",
      "121:\tlearn: 0.0102845\ttotal: 4.18s\tremaining: 13s\n",
      "122:\tlearn: 0.0102672\ttotal: 4.22s\tremaining: 12.9s\n",
      "123:\tlearn: 0.0102433\ttotal: 4.26s\tremaining: 12.9s\n",
      "124:\tlearn: 0.0102306\ttotal: 4.32s\tremaining: 12.9s\n",
      "125:\tlearn: 0.0102061\ttotal: 4.36s\tremaining: 12.9s\n",
      "126:\tlearn: 0.0102033\ttotal: 4.39s\tremaining: 12.9s\n",
      "127:\tlearn: 0.0101870\ttotal: 4.42s\tremaining: 12.9s\n",
      "128:\tlearn: 0.0101858\ttotal: 4.46s\tremaining: 12.8s\n",
      "129:\tlearn: 0.0101620\ttotal: 4.58s\tremaining: 13s\n",
      "130:\tlearn: 0.0101571\ttotal: 4.65s\tremaining: 13.1s\n",
      "131:\tlearn: 0.0101444\ttotal: 4.71s\tremaining: 13.1s\n",
      "132:\tlearn: 0.0101348\ttotal: 4.77s\tremaining: 13.2s\n",
      "133:\tlearn: 0.0101270\ttotal: 4.82s\tremaining: 13.2s\n",
      "134:\tlearn: 0.0101240\ttotal: 4.86s\tremaining: 13.1s\n",
      "135:\tlearn: 0.0101101\ttotal: 4.91s\tremaining: 13.1s\n",
      "136:\tlearn: 0.0101002\ttotal: 4.96s\tremaining: 13.1s\n",
      "137:\tlearn: 0.0100953\ttotal: 5s\tremaining: 13.1s\n",
      "138:\tlearn: 0.0100878\ttotal: 5.05s\tremaining: 13.1s\n",
      "139:\tlearn: 0.0100834\ttotal: 5.08s\tremaining: 13.1s\n",
      "140:\tlearn: 0.0100765\ttotal: 5.13s\tremaining: 13.1s\n",
      "141:\tlearn: 0.0100688\ttotal: 5.17s\tremaining: 13s\n",
      "142:\tlearn: 0.0100614\ttotal: 5.21s\tremaining: 13s\n",
      "143:\tlearn: 0.0100523\ttotal: 5.26s\tremaining: 13s\n",
      "144:\tlearn: 0.0100404\ttotal: 5.31s\tremaining: 13s\n",
      "145:\tlearn: 0.0100362\ttotal: 5.36s\tremaining: 13s\n",
      "146:\tlearn: 0.0100264\ttotal: 5.4s\tremaining: 13s\n",
      "147:\tlearn: 0.0100182\ttotal: 5.45s\tremaining: 13s\n",
      "148:\tlearn: 0.0100153\ttotal: 5.49s\tremaining: 12.9s\n",
      "149:\tlearn: 0.0100022\ttotal: 5.54s\tremaining: 12.9s\n",
      "150:\tlearn: 0.0099978\ttotal: 5.57s\tremaining: 12.9s\n",
      "151:\tlearn: 0.0099882\ttotal: 5.61s\tremaining: 12.8s\n",
      "152:\tlearn: 0.0099782\ttotal: 5.63s\tremaining: 12.8s\n",
      "153:\tlearn: 0.0099546\ttotal: 5.67s\tremaining: 12.7s\n",
      "154:\tlearn: 0.0099421\ttotal: 5.7s\tremaining: 12.7s\n",
      "155:\tlearn: 0.0099326\ttotal: 5.73s\tremaining: 12.6s\n",
      "156:\tlearn: 0.0099209\ttotal: 5.76s\tremaining: 12.6s\n",
      "157:\tlearn: 0.0099069\ttotal: 5.79s\tremaining: 12.5s\n",
      "158:\tlearn: 0.0099044\ttotal: 5.82s\tremaining: 12.5s\n",
      "159:\tlearn: 0.0098927\ttotal: 5.85s\tremaining: 12.4s\n",
      "160:\tlearn: 0.0098811\ttotal: 5.88s\tremaining: 12.4s\n",
      "161:\tlearn: 0.0098728\ttotal: 5.92s\tremaining: 12.3s\n",
      "162:\tlearn: 0.0098628\ttotal: 5.95s\tremaining: 12.3s\n",
      "163:\tlearn: 0.0098541\ttotal: 5.98s\tremaining: 12.3s\n",
      "164:\tlearn: 0.0098481\ttotal: 6.01s\tremaining: 12.2s\n",
      "165:\tlearn: 0.0098442\ttotal: 6.05s\tremaining: 12.2s\n",
      "166:\tlearn: 0.0098351\ttotal: 6.08s\tremaining: 12.1s\n",
      "167:\tlearn: 0.0098268\ttotal: 6.12s\tremaining: 12.1s\n",
      "168:\tlearn: 0.0098075\ttotal: 6.16s\tremaining: 12.1s\n",
      "169:\tlearn: 0.0097986\ttotal: 6.2s\tremaining: 12s\n",
      "170:\tlearn: 0.0097936\ttotal: 6.23s\tremaining: 12s\n",
      "171:\tlearn: 0.0097843\ttotal: 6.27s\tremaining: 12s\n",
      "172:\tlearn: 0.0097763\ttotal: 6.32s\tremaining: 11.9s\n",
      "173:\tlearn: 0.0097658\ttotal: 6.37s\tremaining: 11.9s\n",
      "174:\tlearn: 0.0097523\ttotal: 6.42s\tremaining: 11.9s\n",
      "175:\tlearn: 0.0097450\ttotal: 6.46s\tremaining: 11.9s\n",
      "176:\tlearn: 0.0097338\ttotal: 6.52s\tremaining: 11.9s\n",
      "177:\tlearn: 0.0097257\ttotal: 6.56s\tremaining: 11.9s\n",
      "178:\tlearn: 0.0097165\ttotal: 6.61s\tremaining: 11.8s\n",
      "179:\tlearn: 0.0097153\ttotal: 6.66s\tremaining: 11.8s\n",
      "180:\tlearn: 0.0097118\ttotal: 6.69s\tremaining: 11.8s\n",
      "181:\tlearn: 0.0096987\ttotal: 6.73s\tremaining: 11.8s\n",
      "182:\tlearn: 0.0096909\ttotal: 6.78s\tremaining: 11.7s\n",
      "183:\tlearn: 0.0096881\ttotal: 6.83s\tremaining: 11.7s\n",
      "184:\tlearn: 0.0096727\ttotal: 6.88s\tremaining: 11.7s\n",
      "185:\tlearn: 0.0096645\ttotal: 6.92s\tremaining: 11.7s\n",
      "186:\tlearn: 0.0096549\ttotal: 6.96s\tremaining: 11.6s\n",
      "187:\tlearn: 0.0096502\ttotal: 6.99s\tremaining: 11.6s\n",
      "188:\tlearn: 0.0096427\ttotal: 7.02s\tremaining: 11.6s\n",
      "189:\tlearn: 0.0096324\ttotal: 7.06s\tremaining: 11.5s\n",
      "190:\tlearn: 0.0096288\ttotal: 7.1s\tremaining: 11.5s\n",
      "191:\tlearn: 0.0096181\ttotal: 7.13s\tremaining: 11.4s\n",
      "192:\tlearn: 0.0096065\ttotal: 7.17s\tremaining: 11.4s\n",
      "193:\tlearn: 0.0095948\ttotal: 7.2s\tremaining: 11.4s\n",
      "194:\tlearn: 0.0095853\ttotal: 7.23s\tremaining: 11.3s\n",
      "195:\tlearn: 0.0095713\ttotal: 7.26s\tremaining: 11.3s\n",
      "196:\tlearn: 0.0095639\ttotal: 7.3s\tremaining: 11.2s\n",
      "197:\tlearn: 0.0095511\ttotal: 7.33s\tremaining: 11.2s\n",
      "198:\tlearn: 0.0095439\ttotal: 7.36s\tremaining: 11.1s\n",
      "199:\tlearn: 0.0095287\ttotal: 7.4s\tremaining: 11.1s\n",
      "200:\tlearn: 0.0095196\ttotal: 7.44s\tremaining: 11.1s\n",
      "201:\tlearn: 0.0095087\ttotal: 7.48s\tremaining: 11s\n",
      "202:\tlearn: 0.0095012\ttotal: 7.51s\tremaining: 11s\n",
      "203:\tlearn: 0.0094908\ttotal: 7.54s\tremaining: 10.9s\n",
      "204:\tlearn: 0.0094810\ttotal: 7.57s\tremaining: 10.9s\n",
      "205:\tlearn: 0.0094703\ttotal: 7.6s\tremaining: 10.9s\n",
      "206:\tlearn: 0.0094670\ttotal: 7.64s\tremaining: 10.8s\n",
      "207:\tlearn: 0.0094607\ttotal: 7.68s\tremaining: 10.8s\n",
      "208:\tlearn: 0.0094569\ttotal: 7.71s\tremaining: 10.7s\n",
      "209:\tlearn: 0.0094526\ttotal: 7.74s\tremaining: 10.7s\n",
      "210:\tlearn: 0.0094463\ttotal: 7.77s\tremaining: 10.6s\n",
      "211:\tlearn: 0.0094327\ttotal: 7.8s\tremaining: 10.6s\n",
      "212:\tlearn: 0.0094224\ttotal: 7.83s\tremaining: 10.6s\n",
      "213:\tlearn: 0.0094152\ttotal: 7.87s\tremaining: 10.5s\n",
      "214:\tlearn: 0.0094105\ttotal: 7.9s\tremaining: 10.5s\n",
      "215:\tlearn: 0.0094032\ttotal: 7.94s\tremaining: 10.4s\n",
      "216:\tlearn: 0.0093946\ttotal: 7.96s\tremaining: 10.4s\n",
      "217:\tlearn: 0.0093913\ttotal: 8s\tremaining: 10.3s\n",
      "218:\tlearn: 0.0093805\ttotal: 8.03s\tremaining: 10.3s\n",
      "219:\tlearn: 0.0093688\ttotal: 8.06s\tremaining: 10.3s\n",
      "220:\tlearn: 0.0093644\ttotal: 8.09s\tremaining: 10.2s\n",
      "221:\tlearn: 0.0093488\ttotal: 8.12s\tremaining: 10.2s\n",
      "222:\tlearn: 0.0093318\ttotal: 8.15s\tremaining: 10.1s\n",
      "223:\tlearn: 0.0093274\ttotal: 8.19s\tremaining: 10.1s\n",
      "224:\tlearn: 0.0093189\ttotal: 8.22s\tremaining: 10s\n",
      "225:\tlearn: 0.0093082\ttotal: 8.26s\tremaining: 10s\n",
      "226:\tlearn: 0.0093000\ttotal: 8.29s\tremaining: 9.96s\n",
      "227:\tlearn: 0.0092916\ttotal: 8.32s\tremaining: 9.92s\n",
      "228:\tlearn: 0.0092795\ttotal: 8.35s\tremaining: 9.88s\n",
      "229:\tlearn: 0.0092730\ttotal: 8.39s\tremaining: 9.85s\n",
      "230:\tlearn: 0.0092663\ttotal: 8.43s\tremaining: 9.82s\n",
      "231:\tlearn: 0.0092650\ttotal: 8.46s\tremaining: 9.78s\n",
      "232:\tlearn: 0.0092515\ttotal: 8.5s\tremaining: 9.74s\n",
      "233:\tlearn: 0.0092400\ttotal: 8.53s\tremaining: 9.69s\n",
      "234:\tlearn: 0.0092314\ttotal: 8.56s\tremaining: 9.65s\n",
      "235:\tlearn: 0.0092250\ttotal: 8.6s\tremaining: 9.62s\n",
      "236:\tlearn: 0.0092228\ttotal: 8.63s\tremaining: 9.58s\n",
      "237:\tlearn: 0.0092130\ttotal: 8.67s\tremaining: 9.54s\n",
      "238:\tlearn: 0.0092063\ttotal: 8.71s\tremaining: 9.51s\n",
      "239:\tlearn: 0.0092005\ttotal: 8.75s\tremaining: 9.48s\n",
      "240:\tlearn: 0.0091977\ttotal: 8.81s\tremaining: 9.47s\n",
      "241:\tlearn: 0.0091887\ttotal: 8.86s\tremaining: 9.45s\n",
      "242:\tlearn: 0.0091872\ttotal: 8.91s\tremaining: 9.43s\n",
      "243:\tlearn: 0.0091845\ttotal: 8.96s\tremaining: 9.4s\n",
      "244:\tlearn: 0.0091784\ttotal: 9s\tremaining: 9.37s\n",
      "245:\tlearn: 0.0091722\ttotal: 9.04s\tremaining: 9.33s\n",
      "246:\tlearn: 0.0091596\ttotal: 9.07s\tremaining: 9.29s\n",
      "247:\tlearn: 0.0091543\ttotal: 9.1s\tremaining: 9.25s\n",
      "248:\tlearn: 0.0091490\ttotal: 9.13s\tremaining: 9.21s\n",
      "249:\tlearn: 0.0091370\ttotal: 9.17s\tremaining: 9.17s\n",
      "250:\tlearn: 0.0091299\ttotal: 9.2s\tremaining: 9.13s\n",
      "251:\tlearn: 0.0091254\ttotal: 9.24s\tremaining: 9.1s\n",
      "252:\tlearn: 0.0091215\ttotal: 9.27s\tremaining: 9.05s\n",
      "253:\tlearn: 0.0091140\ttotal: 9.3s\tremaining: 9.01s\n",
      "254:\tlearn: 0.0091127\ttotal: 9.34s\tremaining: 8.97s\n",
      "255:\tlearn: 0.0091024\ttotal: 9.37s\tremaining: 8.93s\n",
      "256:\tlearn: 0.0090969\ttotal: 9.4s\tremaining: 8.89s\n",
      "257:\tlearn: 0.0090858\ttotal: 9.44s\tremaining: 8.85s\n",
      "258:\tlearn: 0.0090766\ttotal: 9.48s\tremaining: 8.82s\n",
      "259:\tlearn: 0.0090650\ttotal: 9.52s\tremaining: 8.79s\n",
      "260:\tlearn: 0.0090567\ttotal: 9.55s\tremaining: 8.75s\n",
      "261:\tlearn: 0.0090496\ttotal: 9.59s\tremaining: 8.71s\n",
      "262:\tlearn: 0.0090389\ttotal: 9.62s\tremaining: 8.67s\n",
      "263:\tlearn: 0.0090300\ttotal: 9.65s\tremaining: 8.63s\n",
      "264:\tlearn: 0.0090221\ttotal: 9.68s\tremaining: 8.59s\n",
      "265:\tlearn: 0.0090104\ttotal: 9.72s\tremaining: 8.55s\n",
      "266:\tlearn: 0.0090039\ttotal: 9.76s\tremaining: 8.52s\n",
      "267:\tlearn: 0.0089946\ttotal: 9.79s\tremaining: 8.48s\n",
      "268:\tlearn: 0.0089858\ttotal: 9.83s\tremaining: 8.44s\n",
      "269:\tlearn: 0.0089798\ttotal: 9.86s\tremaining: 8.4s\n",
      "270:\tlearn: 0.0089748\ttotal: 9.89s\tremaining: 8.36s\n",
      "271:\tlearn: 0.0089728\ttotal: 9.93s\tremaining: 8.32s\n",
      "272:\tlearn: 0.0089690\ttotal: 9.97s\tremaining: 8.29s\n",
      "273:\tlearn: 0.0089636\ttotal: 10s\tremaining: 8.26s\n",
      "274:\tlearn: 0.0089622\ttotal: 10.1s\tremaining: 8.23s\n",
      "275:\tlearn: 0.0089579\ttotal: 10.1s\tremaining: 8.21s\n",
      "276:\tlearn: 0.0089446\ttotal: 10.2s\tremaining: 8.18s\n",
      "277:\tlearn: 0.0089388\ttotal: 10.2s\tremaining: 8.14s\n",
      "278:\tlearn: 0.0089371\ttotal: 10.2s\tremaining: 8.11s\n",
      "279:\tlearn: 0.0089306\ttotal: 10.3s\tremaining: 8.08s\n",
      "280:\tlearn: 0.0089261\ttotal: 10.3s\tremaining: 8.05s\n",
      "281:\tlearn: 0.0089190\ttotal: 10.4s\tremaining: 8.02s\n",
      "282:\tlearn: 0.0089095\ttotal: 10.4s\tremaining: 7.98s\n",
      "283:\tlearn: 0.0089074\ttotal: 10.4s\tremaining: 7.94s\n",
      "284:\tlearn: 0.0089004\ttotal: 10.5s\tremaining: 7.9s\n",
      "285:\tlearn: 0.0088977\ttotal: 10.5s\tremaining: 7.86s\n",
      "286:\tlearn: 0.0088938\ttotal: 10.5s\tremaining: 7.82s\n",
      "287:\tlearn: 0.0088866\ttotal: 10.6s\tremaining: 7.77s\n",
      "288:\tlearn: 0.0088758\ttotal: 10.6s\tremaining: 7.73s\n",
      "289:\tlearn: 0.0088677\ttotal: 10.6s\tremaining: 7.7s\n",
      "290:\tlearn: 0.0088604\ttotal: 10.7s\tremaining: 7.65s\n",
      "291:\tlearn: 0.0088520\ttotal: 10.7s\tremaining: 7.62s\n",
      "292:\tlearn: 0.0088434\ttotal: 10.7s\tremaining: 7.58s\n",
      "293:\tlearn: 0.0088299\ttotal: 10.8s\tremaining: 7.55s\n",
      "294:\tlearn: 0.0088215\ttotal: 10.8s\tremaining: 7.51s\n",
      "295:\tlearn: 0.0088123\ttotal: 10.8s\tremaining: 7.47s\n",
      "296:\tlearn: 0.0088058\ttotal: 10.9s\tremaining: 7.43s\n",
      "297:\tlearn: 0.0088007\ttotal: 10.9s\tremaining: 7.39s\n",
      "298:\tlearn: 0.0087822\ttotal: 10.9s\tremaining: 7.35s\n",
      "299:\tlearn: 0.0087744\ttotal: 11s\tremaining: 7.31s\n",
      "300:\tlearn: 0.0087675\ttotal: 11s\tremaining: 7.28s\n",
      "301:\tlearn: 0.0087568\ttotal: 11.1s\tremaining: 7.25s\n",
      "302:\tlearn: 0.0087449\ttotal: 11.1s\tremaining: 7.21s\n",
      "303:\tlearn: 0.0087428\ttotal: 11.1s\tremaining: 7.17s\n",
      "304:\tlearn: 0.0087393\ttotal: 11.2s\tremaining: 7.13s\n",
      "305:\tlearn: 0.0087388\ttotal: 11.2s\tremaining: 7.09s\n",
      "306:\tlearn: 0.0087339\ttotal: 11.2s\tremaining: 7.05s\n",
      "307:\tlearn: 0.0087263\ttotal: 11.3s\tremaining: 7.02s\n",
      "308:\tlearn: 0.0087169\ttotal: 11.3s\tremaining: 6.98s\n",
      "309:\tlearn: 0.0087107\ttotal: 11.3s\tremaining: 6.95s\n",
      "310:\tlearn: 0.0086989\ttotal: 11.4s\tremaining: 6.91s\n",
      "311:\tlearn: 0.0086909\ttotal: 11.4s\tremaining: 6.87s\n",
      "312:\tlearn: 0.0086849\ttotal: 11.4s\tremaining: 6.83s\n",
      "313:\tlearn: 0.0086769\ttotal: 11.5s\tremaining: 6.79s\n",
      "314:\tlearn: 0.0086742\ttotal: 11.5s\tremaining: 6.75s\n",
      "315:\tlearn: 0.0086720\ttotal: 11.5s\tremaining: 6.71s\n",
      "316:\tlearn: 0.0086603\ttotal: 11.6s\tremaining: 6.68s\n",
      "317:\tlearn: 0.0086562\ttotal: 11.6s\tremaining: 6.64s\n",
      "318:\tlearn: 0.0086506\ttotal: 11.6s\tremaining: 6.6s\n",
      "319:\tlearn: 0.0086444\ttotal: 11.7s\tremaining: 6.56s\n",
      "320:\tlearn: 0.0086372\ttotal: 11.7s\tremaining: 6.52s\n",
      "321:\tlearn: 0.0086298\ttotal: 11.7s\tremaining: 6.48s\n",
      "322:\tlearn: 0.0086242\ttotal: 11.8s\tremaining: 6.44s\n",
      "323:\tlearn: 0.0086183\ttotal: 11.8s\tremaining: 6.4s\n",
      "324:\tlearn: 0.0086135\ttotal: 11.8s\tremaining: 6.36s\n",
      "325:\tlearn: 0.0086112\ttotal: 11.8s\tremaining: 6.32s\n",
      "326:\tlearn: 0.0085954\ttotal: 11.9s\tremaining: 6.28s\n",
      "327:\tlearn: 0.0085881\ttotal: 11.9s\tremaining: 6.25s\n",
      "328:\tlearn: 0.0085849\ttotal: 11.9s\tremaining: 6.21s\n",
      "329:\tlearn: 0.0085830\ttotal: 12s\tremaining: 6.17s\n",
      "330:\tlearn: 0.0085799\ttotal: 12s\tremaining: 6.13s\n",
      "331:\tlearn: 0.0085751\ttotal: 12s\tremaining: 6.09s\n",
      "332:\tlearn: 0.0085713\ttotal: 12.1s\tremaining: 6.06s\n",
      "333:\tlearn: 0.0085650\ttotal: 12.1s\tremaining: 6.02s\n",
      "334:\tlearn: 0.0085589\ttotal: 12.1s\tremaining: 5.98s\n",
      "335:\tlearn: 0.0085512\ttotal: 12.2s\tremaining: 5.95s\n",
      "336:\tlearn: 0.0085426\ttotal: 12.2s\tremaining: 5.91s\n",
      "337:\tlearn: 0.0085324\ttotal: 12.3s\tremaining: 5.88s\n",
      "338:\tlearn: 0.0085250\ttotal: 12.3s\tremaining: 5.84s\n",
      "339:\tlearn: 0.0085181\ttotal: 12.3s\tremaining: 5.8s\n",
      "340:\tlearn: 0.0085107\ttotal: 12.4s\tremaining: 5.76s\n",
      "341:\tlearn: 0.0085015\ttotal: 12.4s\tremaining: 5.72s\n",
      "342:\tlearn: 0.0084944\ttotal: 12.4s\tremaining: 5.69s\n",
      "343:\tlearn: 0.0084907\ttotal: 12.5s\tremaining: 5.65s\n",
      "344:\tlearn: 0.0084825\ttotal: 12.5s\tremaining: 5.61s\n",
      "345:\tlearn: 0.0084758\ttotal: 12.5s\tremaining: 5.58s\n",
      "346:\tlearn: 0.0084741\ttotal: 12.6s\tremaining: 5.54s\n",
      "347:\tlearn: 0.0084715\ttotal: 12.6s\tremaining: 5.5s\n",
      "348:\tlearn: 0.0084676\ttotal: 12.6s\tremaining: 5.46s\n",
      "349:\tlearn: 0.0084595\ttotal: 12.7s\tremaining: 5.42s\n",
      "350:\tlearn: 0.0084575\ttotal: 12.7s\tremaining: 5.38s\n",
      "351:\tlearn: 0.0084496\ttotal: 12.7s\tremaining: 5.35s\n",
      "352:\tlearn: 0.0084438\ttotal: 12.8s\tremaining: 5.32s\n",
      "353:\tlearn: 0.0084421\ttotal: 12.8s\tremaining: 5.29s\n",
      "354:\tlearn: 0.0084369\ttotal: 12.8s\tremaining: 5.25s\n",
      "355:\tlearn: 0.0084317\ttotal: 12.9s\tremaining: 5.21s\n",
      "356:\tlearn: 0.0084196\ttotal: 12.9s\tremaining: 5.17s\n",
      "357:\tlearn: 0.0084144\ttotal: 13s\tremaining: 5.14s\n",
      "358:\tlearn: 0.0084096\ttotal: 13s\tremaining: 5.1s\n",
      "359:\tlearn: 0.0084032\ttotal: 13s\tremaining: 5.06s\n",
      "360:\tlearn: 0.0083987\ttotal: 13.1s\tremaining: 5.03s\n",
      "361:\tlearn: 0.0083907\ttotal: 13.1s\tremaining: 4.99s\n",
      "362:\tlearn: 0.0083889\ttotal: 13.1s\tremaining: 4.95s\n",
      "363:\tlearn: 0.0083807\ttotal: 13.2s\tremaining: 4.92s\n",
      "364:\tlearn: 0.0083774\ttotal: 13.2s\tremaining: 4.88s\n",
      "365:\tlearn: 0.0083732\ttotal: 13.2s\tremaining: 4.84s\n",
      "366:\tlearn: 0.0083666\ttotal: 13.3s\tremaining: 4.81s\n",
      "367:\tlearn: 0.0083634\ttotal: 13.3s\tremaining: 4.77s\n",
      "368:\tlearn: 0.0083562\ttotal: 13.3s\tremaining: 4.73s\n",
      "369:\tlearn: 0.0083403\ttotal: 13.4s\tremaining: 4.7s\n",
      "370:\tlearn: 0.0083363\ttotal: 13.4s\tremaining: 4.66s\n",
      "371:\tlearn: 0.0083252\ttotal: 13.4s\tremaining: 4.63s\n",
      "372:\tlearn: 0.0083150\ttotal: 13.5s\tremaining: 4.59s\n",
      "373:\tlearn: 0.0083110\ttotal: 13.5s\tremaining: 4.55s\n",
      "374:\tlearn: 0.0083045\ttotal: 13.6s\tremaining: 4.52s\n",
      "375:\tlearn: 0.0083001\ttotal: 13.6s\tremaining: 4.48s\n",
      "376:\tlearn: 0.0082949\ttotal: 13.6s\tremaining: 4.44s\n",
      "377:\tlearn: 0.0082868\ttotal: 13.7s\tremaining: 4.41s\n",
      "378:\tlearn: 0.0082821\ttotal: 13.7s\tremaining: 4.38s\n",
      "379:\tlearn: 0.0082684\ttotal: 13.7s\tremaining: 4.34s\n",
      "380:\tlearn: 0.0082595\ttotal: 13.8s\tremaining: 4.3s\n",
      "381:\tlearn: 0.0082553\ttotal: 13.8s\tremaining: 4.27s\n",
      "382:\tlearn: 0.0082500\ttotal: 13.8s\tremaining: 4.23s\n",
      "383:\tlearn: 0.0082433\ttotal: 13.9s\tremaining: 4.19s\n",
      "384:\tlearn: 0.0082406\ttotal: 13.9s\tremaining: 4.16s\n",
      "385:\tlearn: 0.0082343\ttotal: 13.9s\tremaining: 4.12s\n",
      "386:\tlearn: 0.0082286\ttotal: 14s\tremaining: 4.08s\n",
      "387:\tlearn: 0.0082252\ttotal: 14s\tremaining: 4.04s\n",
      "388:\tlearn: 0.0082206\ttotal: 14.1s\tremaining: 4.01s\n",
      "389:\tlearn: 0.0082188\ttotal: 14.1s\tremaining: 3.97s\n",
      "390:\tlearn: 0.0082129\ttotal: 14.1s\tremaining: 3.94s\n",
      "391:\tlearn: 0.0082100\ttotal: 14.2s\tremaining: 3.9s\n",
      "392:\tlearn: 0.0082059\ttotal: 14.2s\tremaining: 3.86s\n",
      "393:\tlearn: 0.0082012\ttotal: 14.2s\tremaining: 3.83s\n",
      "394:\tlearn: 0.0081950\ttotal: 14.3s\tremaining: 3.79s\n",
      "395:\tlearn: 0.0081910\ttotal: 14.3s\tremaining: 3.75s\n",
      "396:\tlearn: 0.0081841\ttotal: 14.3s\tremaining: 3.72s\n",
      "397:\tlearn: 0.0081796\ttotal: 14.4s\tremaining: 3.68s\n",
      "398:\tlearn: 0.0081777\ttotal: 14.4s\tremaining: 3.64s\n",
      "399:\tlearn: 0.0081742\ttotal: 14.4s\tremaining: 3.6s\n",
      "400:\tlearn: 0.0081713\ttotal: 14.5s\tremaining: 3.57s\n",
      "401:\tlearn: 0.0081688\ttotal: 14.5s\tremaining: 3.53s\n",
      "402:\tlearn: 0.0081654\ttotal: 14.5s\tremaining: 3.49s\n",
      "403:\tlearn: 0.0081634\ttotal: 14.5s\tremaining: 3.46s\n",
      "404:\tlearn: 0.0081590\ttotal: 14.6s\tremaining: 3.42s\n",
      "405:\tlearn: 0.0081559\ttotal: 14.6s\tremaining: 3.38s\n",
      "406:\tlearn: 0.0081539\ttotal: 14.7s\tremaining: 3.35s\n",
      "407:\tlearn: 0.0081507\ttotal: 14.7s\tremaining: 3.31s\n",
      "408:\tlearn: 0.0081484\ttotal: 14.7s\tremaining: 3.27s\n",
      "409:\tlearn: 0.0081435\ttotal: 14.8s\tremaining: 3.24s\n",
      "410:\tlearn: 0.0081406\ttotal: 14.8s\tremaining: 3.2s\n",
      "411:\tlearn: 0.0081323\ttotal: 14.8s\tremaining: 3.17s\n",
      "412:\tlearn: 0.0081229\ttotal: 14.9s\tremaining: 3.13s\n",
      "413:\tlearn: 0.0081214\ttotal: 14.9s\tremaining: 3.1s\n",
      "414:\tlearn: 0.0081183\ttotal: 15s\tremaining: 3.06s\n",
      "415:\tlearn: 0.0081124\ttotal: 15s\tremaining: 3.03s\n",
      "416:\tlearn: 0.0081089\ttotal: 15s\tremaining: 3s\n",
      "417:\tlearn: 0.0081029\ttotal: 15.1s\tremaining: 2.96s\n",
      "418:\tlearn: 0.0081004\ttotal: 15.1s\tremaining: 2.93s\n",
      "419:\tlearn: 0.0080998\ttotal: 15.2s\tremaining: 2.89s\n",
      "420:\tlearn: 0.0080984\ttotal: 15.2s\tremaining: 2.85s\n",
      "421:\tlearn: 0.0080928\ttotal: 15.3s\tremaining: 2.82s\n",
      "422:\tlearn: 0.0080892\ttotal: 15.3s\tremaining: 2.78s\n",
      "423:\tlearn: 0.0080881\ttotal: 15.3s\tremaining: 2.75s\n",
      "424:\tlearn: 0.0080813\ttotal: 15.4s\tremaining: 2.71s\n",
      "425:\tlearn: 0.0080742\ttotal: 15.4s\tremaining: 2.67s\n",
      "426:\tlearn: 0.0080675\ttotal: 15.4s\tremaining: 2.64s\n",
      "427:\tlearn: 0.0080593\ttotal: 15.5s\tremaining: 2.6s\n",
      "428:\tlearn: 0.0080573\ttotal: 15.5s\tremaining: 2.56s\n",
      "429:\tlearn: 0.0080546\ttotal: 15.5s\tremaining: 2.53s\n",
      "430:\tlearn: 0.0080471\ttotal: 15.6s\tremaining: 2.49s\n",
      "431:\tlearn: 0.0080460\ttotal: 15.6s\tremaining: 2.45s\n",
      "432:\tlearn: 0.0080407\ttotal: 15.6s\tremaining: 2.42s\n",
      "433:\tlearn: 0.0080382\ttotal: 15.6s\tremaining: 2.38s\n",
      "434:\tlearn: 0.0080335\ttotal: 15.7s\tremaining: 2.34s\n",
      "435:\tlearn: 0.0080243\ttotal: 15.7s\tremaining: 2.31s\n",
      "436:\tlearn: 0.0080135\ttotal: 15.8s\tremaining: 2.27s\n",
      "437:\tlearn: 0.0080110\ttotal: 15.8s\tremaining: 2.23s\n",
      "438:\tlearn: 0.0080029\ttotal: 15.8s\tremaining: 2.2s\n",
      "439:\tlearn: 0.0079956\ttotal: 15.9s\tremaining: 2.16s\n",
      "440:\tlearn: 0.0079867\ttotal: 15.9s\tremaining: 2.13s\n",
      "441:\tlearn: 0.0079806\ttotal: 15.9s\tremaining: 2.09s\n",
      "442:\tlearn: 0.0079758\ttotal: 15.9s\tremaining: 2.05s\n",
      "443:\tlearn: 0.0079733\ttotal: 16s\tremaining: 2.02s\n",
      "444:\tlearn: 0.0079671\ttotal: 16s\tremaining: 1.98s\n",
      "445:\tlearn: 0.0079599\ttotal: 16s\tremaining: 1.94s\n",
      "446:\tlearn: 0.0079578\ttotal: 16.1s\tremaining: 1.91s\n",
      "447:\tlearn: 0.0079567\ttotal: 16.1s\tremaining: 1.87s\n",
      "448:\tlearn: 0.0079532\ttotal: 16.1s\tremaining: 1.83s\n",
      "449:\tlearn: 0.0079493\ttotal: 16.2s\tremaining: 1.8s\n",
      "450:\tlearn: 0.0079456\ttotal: 16.2s\tremaining: 1.76s\n",
      "451:\tlearn: 0.0079375\ttotal: 16.2s\tremaining: 1.73s\n",
      "452:\tlearn: 0.0079299\ttotal: 16.3s\tremaining: 1.69s\n",
      "453:\tlearn: 0.0079219\ttotal: 16.3s\tremaining: 1.65s\n",
      "454:\tlearn: 0.0079144\ttotal: 16.3s\tremaining: 1.62s\n",
      "455:\tlearn: 0.0079124\ttotal: 16.4s\tremaining: 1.58s\n",
      "456:\tlearn: 0.0079077\ttotal: 16.4s\tremaining: 1.54s\n",
      "457:\tlearn: 0.0078994\ttotal: 16.4s\tremaining: 1.51s\n",
      "458:\tlearn: 0.0078964\ttotal: 16.5s\tremaining: 1.47s\n",
      "459:\tlearn: 0.0078889\ttotal: 16.5s\tremaining: 1.44s\n",
      "460:\tlearn: 0.0078872\ttotal: 16.5s\tremaining: 1.4s\n",
      "461:\tlearn: 0.0078820\ttotal: 16.6s\tremaining: 1.36s\n",
      "462:\tlearn: 0.0078795\ttotal: 16.6s\tremaining: 1.32s\n",
      "463:\tlearn: 0.0078741\ttotal: 16.6s\tremaining: 1.29s\n",
      "464:\tlearn: 0.0078679\ttotal: 16.7s\tremaining: 1.25s\n",
      "465:\tlearn: 0.0078598\ttotal: 16.7s\tremaining: 1.22s\n",
      "466:\tlearn: 0.0078546\ttotal: 16.7s\tremaining: 1.18s\n",
      "467:\tlearn: 0.0078486\ttotal: 16.8s\tremaining: 1.15s\n",
      "468:\tlearn: 0.0078432\ttotal: 16.8s\tremaining: 1.11s\n",
      "469:\tlearn: 0.0078383\ttotal: 16.8s\tremaining: 1.07s\n",
      "470:\tlearn: 0.0078271\ttotal: 16.9s\tremaining: 1.04s\n",
      "471:\tlearn: 0.0078238\ttotal: 16.9s\tremaining: 1s\n",
      "472:\tlearn: 0.0078192\ttotal: 16.9s\tremaining: 966ms\n",
      "473:\tlearn: 0.0078184\ttotal: 17s\tremaining: 930ms\n",
      "474:\tlearn: 0.0078138\ttotal: 17s\tremaining: 895ms\n",
      "475:\tlearn: 0.0078117\ttotal: 17s\tremaining: 859ms\n",
      "476:\tlearn: 0.0078104\ttotal: 17.1s\tremaining: 823ms\n",
      "477:\tlearn: 0.0078047\ttotal: 17.1s\tremaining: 787ms\n",
      "478:\tlearn: 0.0077989\ttotal: 17.1s\tremaining: 751ms\n",
      "479:\tlearn: 0.0077935\ttotal: 17.2s\tremaining: 715ms\n",
      "480:\tlearn: 0.0077899\ttotal: 17.2s\tremaining: 679ms\n",
      "481:\tlearn: 0.0077857\ttotal: 17.2s\tremaining: 643ms\n",
      "482:\tlearn: 0.0077847\ttotal: 17.3s\tremaining: 608ms\n",
      "483:\tlearn: 0.0077800\ttotal: 17.3s\tremaining: 572ms\n",
      "484:\tlearn: 0.0077740\ttotal: 17.3s\tremaining: 536ms\n",
      "485:\tlearn: 0.0077710\ttotal: 17.4s\tremaining: 501ms\n",
      "486:\tlearn: 0.0077687\ttotal: 17.4s\tremaining: 465ms\n",
      "487:\tlearn: 0.0077673\ttotal: 17.4s\tremaining: 429ms\n",
      "488:\tlearn: 0.0077623\ttotal: 17.5s\tremaining: 393ms\n",
      "489:\tlearn: 0.0077574\ttotal: 17.5s\tremaining: 357ms\n",
      "490:\tlearn: 0.0077563\ttotal: 17.5s\tremaining: 322ms\n",
      "491:\tlearn: 0.0077524\ttotal: 17.6s\tremaining: 286ms\n",
      "492:\tlearn: 0.0077488\ttotal: 17.6s\tremaining: 250ms\n",
      "493:\tlearn: 0.0077421\ttotal: 17.6s\tremaining: 214ms\n",
      "494:\tlearn: 0.0077403\ttotal: 17.7s\tremaining: 179ms\n",
      "495:\tlearn: 0.0077383\ttotal: 17.7s\tremaining: 143ms\n",
      "496:\tlearn: 0.0077324\ttotal: 17.7s\tremaining: 107ms\n",
      "497:\tlearn: 0.0077201\ttotal: 17.8s\tremaining: 71.4ms\n",
      "498:\tlearn: 0.0077105\ttotal: 17.8s\tremaining: 35.7ms\n",
      "499:\tlearn: 0.0077078\ttotal: 17.9s\tremaining: 0us\n"
     ]
    }
   ],
   "source": [
    "sm = SoloModel(CatBoostClassifier(n_estimators=500))\n",
    "sm = sm.fit(x_train, resp_train, tr_train)"
   ]
  },
  {
   "cell_type": "code",
   "execution_count": 58,
   "id": "d7833d2e-4727-4119-9dbc-f0fca07c5cc0",
   "metadata": {},
   "outputs": [],
   "source": [
    "uplift_sm = sm.predict(x_test)"
   ]
  },
  {
   "cell_type": "code",
   "execution_count": 65,
   "id": "cfc4af6c-0e48-4ba6-bc3f-ac296ab4fddf",
   "metadata": {},
   "outputs": [],
   "source": [
    "from matplotlib import pyplot as plt"
   ]
  },
  {
   "cell_type": "code",
   "execution_count": 69,
   "id": "b53ef12d-5050-4d0b-8f4a-e9e3eb282059",
   "metadata": {},
   "outputs": [
    {
     "data": {
      "image/png": "[encoded data removed]",
      "text/plain": [
       "<Figure size 432x288 with 1 Axes>"
      ]
     },
     "metadata": {
      "needs_background": "light"
     },
     "output_type": "display_data"
    }
   ],
   "source": [
    "plt.hist(uplift_sm, bins=50, log=True);"
   ]
  },
  {
   "cell_type": "code",
   "execution_count": 60,
   "id": "cdb05e59-6ced-4e98-8fb6-1e8428ba36e0",
   "metadata": {},
   "outputs": [
    {
     "data": {
      "text/plain": [
       "<sklift.viz.base.UpliftCurveDisplay at 0x7ff6f40ccca0>"
      ]
     },
     "execution_count": 60,
     "metadata": {},
     "output_type": "execute_result"
    },
    {
     "data": {
      "image/png": "[encoded data removed]",
      "text/plain": [
       "<Figure size 432x288 with 1 Axes>"
      ]
     },
     "metadata": {
      "needs_background": "light"
     },
     "output_type": "display_data"
    }
   ],
   "source": [
    "plot_uplift_curve(resp_test, uplift_sm, tr_test, perfect=False)"
   ]
  },
  {
   "cell_type": "code",
   "execution_count": 70,
   "id": "8e5e555e-f37a-4e78-ade0-a55b9ec0e1bd",
   "metadata": {},
   "outputs": [
    {
     "data": {
      "text/plain": [
       "0.0077761072704513505"
      ]
     },
     "execution_count": 70,
     "metadata": {},
     "output_type": "execute_result"
    }
   ],
   "source": [
    "uplift_auc_score(resp_test, uplift_sm, tr_test)"
   ]
  },
  {
   "cell_type": "markdown",
   "id": "7d4a619e-6882-41ec-9555-b60c9572803b",
   "metadata": {},
   "source": [
    "## Class transformation"
   ]
  },
  {
   "cell_type": "code",
   "execution_count": 21,
   "id": "3425cf53-62e2-46eb-ba8f-6f8f40141515",
   "metadata": {},
   "outputs": [],
   "source": [
    "from sklift.models import ClassTransformationReg"
   ]
  },
  {
   "cell_type": "code",
   "execution_count": 23,
   "id": "cbec76ac-a1d8-4547-9c03-eb91036ed03c",
   "metadata": {},
   "outputs": [],
   "source": [
    "from sklearn.linear_model import LogisticRegression, LinearRegression"
   ]
  },
  {
   "cell_type": "code",
   "execution_count": 87,
   "id": "670166cd-6354-4f3e-8308-dd714ff327b3",
   "metadata": {},
   "outputs": [
    {
     "data": {
      "text/plain": [
       "0.8498226666666666"
      ]
     },
     "execution_count": 87,
     "metadata": {},
     "output_type": "execute_result"
    }
   ],
   "source": [
    "tr_train.mean()"
   ]
  },
  {
   "cell_type": "code",
   "execution_count": 88,
   "id": "91f77ad1-5fa2-4bdc-92e1-2e167481160d",
   "metadata": {},
   "outputs": [],
   "source": [
    "ct = ClassTransformationReg(estimator=LinearRegression(), propensity_val=tr_train.mean()\n",
    "                           )"
   ]
  },
  {
   "cell_type": "code",
   "execution_count": 89,
   "id": "6d51946a-0bbf-4989-9433-ad764b661014",
   "metadata": {},
   "outputs": [],
   "source": [
    "ct = ct.fit(x_train, resp_train, tr_train)"
   ]
  },
  {
   "cell_type": "code",
   "execution_count": 91,
   "id": "91e70bac-6406-438a-8c23-cdae328b0f84",
   "metadata": {},
   "outputs": [],
   "source": [
    "uplift_ct = ct.predict(x_test)"
   ]
  },
  {
   "cell_type": "code",
   "execution_count": 92,
   "id": "2299a116-9473-4d29-b4d4-0ec21257b7cd",
   "metadata": {},
   "outputs": [],
   "source": [
    "from sklift.viz import plot_uplift_curve\n",
    "from sklift.metrics.metrics import uplift_auc_score"
   ]
  },
  {
   "cell_type": "code",
   "execution_count": 93,
   "id": "94335986-a9ea-4c8f-a994-b1489242ed1a",
   "metadata": {},
   "outputs": [
    {
     "data": {
      "text/plain": [
       "<sklift.viz.base.UpliftCurveDisplay at 0x7ff6e84e1160>"
      ]
     },
     "execution_count": 93,
     "metadata": {},
     "output_type": "execute_result"
    },
    {
     "data": {
      "image/png": "[encoded data removed]",
      "text/plain": [
       "<Figure size 432x288 with 1 Axes>"
      ]
     },
     "metadata": {
      "needs_background": "light"
     },
     "output_type": "display_data"
    }
   ],
   "source": [
    "plot_uplift_curve(resp_test, uplift_ct, tr_test, perfect=False)"
   ]
  },
  {
   "cell_type": "code",
   "execution_count": 94,
   "id": "698ad84c-df1d-4dbc-9fae-bef9a7e214b2",
   "metadata": {},
   "outputs": [
    {
     "data": {
      "text/plain": [
       "0.008596042787377044"
      ]
     },
     "execution_count": 94,
     "metadata": {},
     "output_type": "execute_result"
    }
   ],
   "source": [
    "uplift_auc_score(resp_test, uplift_ct, tr_test)"
   ]
  },
  {
   "cell_type": "markdown",
   "id": "0134cb5a-b3c8-4afc-a2d4-7f73790fc6c9",
   "metadata": {},
   "source": [
    "## T-learner"
   ]
  },
  {
   "cell_type": "code",
   "execution_count": 45,
   "id": "b73f7a92-d8d8-44c1-9abb-3854a2ac5237",
   "metadata": {},
   "outputs": [],
   "source": [
    "from sklift.models.models import TwoModels\n",
    "from catboost import CatBoostClassifier"
   ]
  },
  {
   "cell_type": "code",
   "execution_count": 46,
   "id": "0a14c27c-acd0-4b28-ab60-cec665aaed5c",
   "metadata": {},
   "outputs": [],
   "source": [
    "estimator_trmnt = CatBoostClassifier(silent=True, thread_count=2, random_state=42)\n",
    "estimator_ctrl = CatBoostClassifier(silent=True, thread_count=2, random_state=42)"
   ]
  },
  {
   "cell_type": "code",
   "execution_count": 47,
   "id": "cbd31297-e5f2-478b-887f-e19c5b3d3ad0",
   "metadata": {},
   "outputs": [],
   "source": [
    "tm_ctrl = TwoModels(\n",
    "    estimator_trmnt=estimator_trmnt,\n",
    "    estimator_ctrl=estimator_ctrl,\n",
    "    method='ddr_control'\n",
    ")"
   ]
  },
  {
   "cell_type": "code",
   "execution_count": 49,
   "id": "22a97a67-ec5a-4e47-b2df-3a182caa2165",
   "metadata": {},
   "outputs": [],
   "source": [
    "tm_ctrl = tm_ctrl.fit(\n",
    "    x_train, resp_train, tr_train\n",
    ")\n",
    "\n",
    "uplift_tm_ctrl = tm_ctrl.predict(x_test)"
   ]
  },
  {
   "cell_type": "code",
   "execution_count": 50,
   "id": "3a0629c1-1c4c-4107-bd67-41f9cbc12efb",
   "metadata": {},
   "outputs": [
    {
     "data": {
      "text/plain": [
       "<sklift.viz.base.UpliftCurveDisplay at 0x7ff73c561fa0>"
      ]
     },
     "execution_count": 50,
     "metadata": {},
     "output_type": "execute_result"
    },
    {
     "data": {
      "image/png": "[encoded data removed]",
      "text/plain": [
       "<Figure size 432x288 with 1 Axes>"
      ]
     },
     "metadata": {
      "needs_background": "light"
     },
     "output_type": "display_data"
    }
   ],
   "source": [
    "plot_uplift_curve(resp_test, uplift_tm_ctrl, tr_test, perfect=False)"
   ]
  },
  {
   "cell_type": "code",
   "execution_count": 51,
   "id": "afac7dfa-26de-44bf-b36e-439f8cd3384e",
   "metadata": {},
   "outputs": [
    {
     "data": {
      "text/plain": [
       "0.0036553495226624017"
      ]
     },
     "execution_count": 51,
     "metadata": {},
     "output_type": "execute_result"
    }
   ],
   "source": [
    "uplift_auc_score(resp_test, uplift_tm_ctrl, tr_test)"
   ]
  },
  {
   "cell_type": "markdown",
   "id": "ac4fc56f-421b-41a7-b836-b26c1422017f",
   "metadata": {},
   "source": [
    "## X-learner"
   ]
  },
  {
   "cell_type": "markdown",
   "id": "2be7f389-0368-4d6b-b140-cc756fec0a4d",
   "metadata": {},
   "source": [
    "# Полезные ссылки\n",
    "\n",
    "1. Туториал по uplift моделированию: [часть 1](https://habr.com/ru/company/ru_mts/blog/485980), [часть 2](https://habr.com/ru/company/ru_mts/blog/485976/), [часть 3](https://habr.com/ru/company/ru_mts/blog/538934/)."
   ]
  },
  {
   "cell_type": "code",
   "execution_count": null,
   "id": "cba64df9-9e50-432c-bbdb-c90e5144d17d",
   "metadata": {},
   "outputs": [],
   "source": []
  }
 ],
 "metadata": {
  "kernelspec": {
   "display_name": "general-ds",
   "language": "python",
   "name": "general-ds"
  },
  "language_info": {
   "codemirror_mode": {
    "name": "ipython",
    "version": 3
   },
   "file_extension": ".py",
   "mimetype": "text/x-python",
   "name": "python",
   "nbconvert_exporter": "python",
   "pygments_lexer": "ipython3",
   "version": "3.8.10"
  },
  "toc-autonumbering": true
 },
 "nbformat": 4,
 "nbformat_minor": 5
}
